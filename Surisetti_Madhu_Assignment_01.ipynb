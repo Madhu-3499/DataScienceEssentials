{
  "cells": [
    {
      "cell_type": "markdown",
      "metadata": {
        "id": "view-in-github",
        "colab_type": "text"
      },
      "source": [
        "<a href=\"https://colab.research.google.com/github/Madhu-3499/DataScienceEssentials/blob/main/Surisetti_Madhu_Assignment_01.ipynb\" target=\"_parent\"><img src=\"https://colab.research.google.com/assets/colab-badge.svg\" alt=\"Open In Colab\"/></a>"
      ]
    },
    {
      "cell_type": "markdown",
      "metadata": {
        "id": "Ryk8D1Q4Wsrp"
      },
      "source": [
        "# **INFO5731 Assignment One**"
      ]
    },
    {
      "cell_type": "markdown",
      "source": [
        "This assignment includes range of programming tasks and data analysis exercises, aiming to enhance your Python skills and proficiency in string manipulation, numerical computations, and data science. Follow the instructions carefully and design well-structured Python programs to address each question.\n",
        "\n",
        "Late Submission will have a penalty of 10% reduction for each day after the deadline."
      ],
      "metadata": {
        "id": "qcP6re2g5A5r"
      }
    },
    {
      "cell_type": "markdown",
      "metadata": {
        "id": "JkzR8cFAyGik"
      },
      "source": [
        "# Question 1 (10 points).\n",
        "\n",
        "The formula that describes the volume V of a hemisphere with radius r is the following:\n",
        "\n",
        "$ V=\\frac{2}{3}\\ast\\ \\pi\\ast\\ r^3 $\n",
        "\n",
        "Write a program to calculate the value of V when r is in the range of even numbers from 1-20. Output the result in the following format:\n",
        "\n",
        "\tr\tV\n",
        "\t2\t…\n",
        "\t4\t…\n",
        "\t6\t…\n",
        "\t.\n",
        "\t.\n",
        "\t.\n",
        "\t20\t…\n"
      ]
    },
    {
      "cell_type": "code",
      "execution_count": null,
      "metadata": {
        "id": "jDyTKYs-yGit",
        "colab": {
          "base_uri": "https://localhost:8080/"
        },
        "outputId": "abfc99d9-41e2-4247-aa9f-2d5cf4fa23e1"
      },
      "outputs": [
        {
          "output_type": "stream",
          "name": "stdout",
          "text": [
            "r    V\n",
            "2    16.755160819145562\n",
            "4    134.0412865531645\n",
            "6    452.38934211693015\n",
            "8    1072.330292425316\n",
            "10    2094.3951023931954\n",
            "12    3619.114736935441\n",
            "14    5747.0201609669275\n",
            "16    8578.642339402528\n",
            "18    12214.512237157114\n",
            "20    16755.160819145563\n"
          ]
        }
      ],
      "source": [
        "\n",
        "def calculate_volume(radius):\n",
        "    volume = (2/3) * math.pi * radius**3\n",
        "    return volume\n",
        "\n",
        "print(\"r    V\")          #even values of radius 2 to 20\n",
        "\n",
        "for r in range(2, 21, 2):           #even values of radius 2 to 20\n",
        "    volume = calculate_volume(r)\n",
        "    print(f\"{r}    {volume}\")\n",
        "\n",
        "\n"
      ]
    },
    {
      "cell_type": "markdown",
      "metadata": {
        "id": "90_NR8c5XGWc"
      },
      "source": [
        "# Question 2 (20 points)\n",
        "\n",
        "(a) Write a Python program to generate a sequence of 12 random numbers falling within the range of 50 to 150.\n",
        "\n",
        "(b) Arrange the generated numbers in ascending order. Display the sorted list.\n",
        "\n",
        "(c) Extend the program to arrange the numbers in descending order as well. Present the sorted list accordingly.\n",
        "\n",
        "(d) Compute and output the average of the entire group of generated numbers.\n",
        "\n",
        "(e) Enhance the program to calculate and display the average of the first 6 numbers from both the ascending and descending sorted lists."
      ]
    },
    {
      "cell_type": "code",
      "execution_count": null,
      "metadata": {
        "id": "5QX6bJjGWXY9",
        "colab": {
          "base_uri": "https://localhost:8080/"
        },
        "outputId": "be96cc7b-b297-4105-ff47-9f14b8c8631f"
      },
      "outputs": [
        {
          "output_type": "stream",
          "name": "stdout",
          "text": [
            "Original Random Numbers:\n",
            "[120, 136, 140, 77, 96, 55, 58, 85, 66, 70, 66, 84]\n",
            "\n",
            "Ascending Sorted Random Numbers:\n",
            "[55, 58, 66, 66, 70, 77, 84, 85, 96, 120, 136, 140]\n",
            "\n",
            "Descending Sorted Random Numbers:\n",
            "[140, 136, 120, 96, 85, 84, 77, 70, 66, 66, 58, 55]\n",
            "\n",
            "Average of Entire Group: 87.75\n",
            "\n",
            "Average of First 6 Numbers (Ascending): 65.33333333333333\n",
            "Average of First 6 Numbers (Descending): 110.16666666666667\n"
          ]
        }
      ],
      "source": [
        "\n",
        "def generate_random_numbers():\n",
        "    return [random.randint(50, 150) for _ in range(12)]\n",
        "\n",
        "def calculate_average(numbers):\n",
        "    return sum(numbers) / len(numbers)\n",
        "\n",
        "# (a)\n",
        "random_sequence = generate_random_numbers()    # Generating sequence of 12 random number\n",
        "\n",
        "# (b)\n",
        "ascending_sorted_sequence = sorted(random_sequence)     # Arranging the numbers in ascending order\n",
        "print(\"Original Random Numbers:\")\n",
        "print(random_sequence)\n",
        "print(\"\\nAscending Sorted Random Numbers:\")\n",
        "print(ascending_sorted_sequence)\n",
        "\n",
        "# (c)\n",
        "descending_sorted_sequence = sorted(random_sequence, reverse=True)   #Arranging the numbers in descending order\n",
        "print(\"\\nDescending Sorted Random Numbers:\")\n",
        "print(descending_sorted_sequence)\n",
        "\n",
        "# (d)\n",
        "average_of_all_numbers = calculate_average(random_sequence)    # computing the average and output of generated numbers\n",
        "print(f\"\\nAverage of Entire Group: {average_of_all_numbers:.2f}\")\n",
        "\n",
        "# (e)\n",
        "average_of_first_six_ascending = calculate_average(ascending_sorted_sequence[:6])\n",
        "average_of_first_six_descending = calculate_average(descending_sorted_sequence[:6])\n",
        "\n",
        "print(\"\\nAverage of First 6 Numbers (Ascending):\", average_of_first_six_ascending)\n",
        "print(\"Average of First 6 Numbers (Descending):\", average_of_first_six_descending)\n",
        "\n",
        "\n",
        "\n",
        "\n",
        "\n",
        "\n"
      ]
    },
    {
      "cell_type": "markdown",
      "metadata": {
        "id": "1F_PZdH9Sh49"
      },
      "source": [
        "# Question 3 (20 points).\n",
        "\n",
        "Create a Python program that encompasses various string manipulation task:\n",
        "\n",
        "(a) Prompt the user to input two sentences.\n",
        "\n",
        "(b) Transform each sentence into a list, where each element corresponds to a word in the sentence. For example, if the sentences are \"Hello, how are you doing today?\" and \"This is an example sentence for the program!\"\n",
        "\n",
        "The program should output:\n",
        "['Hello', ',', 'how', 'are', 'you', 'doing', 'today', '?', 'This', 'is', 'an', 'example', 'sentence', 'for', 'the', 'program', '!']\n",
        "\n",
        "(c) Compare the two sentences. Print out a list of words that occur in both sentences.\n",
        "\n",
        "(d) Remove any punctuation from the sentence and print the sanitized sentences. It should remove at least the following characters, but it can remove more: period(“.”), comma (“,”), semicolon (“;”), and colon (“:”).\n",
        "\n",
        "(e) Count the number of vowels in each of the sentences. Print out each vowel and the occurrences  in the each of the two sentences separately, such as:\n",
        "\n",
        "Sentence1: a:2, e:2, i:0, etc.\n",
        "Sentence2: a:1, e:2, i:2, etc.\n",
        "\n",
        "Design a well-structured Python program to execute these tasks efficiently."
      ]
    },
    {
      "cell_type": "code",
      "execution_count": null,
      "metadata": {
        "id": "Y0oOSlsOS0cq",
        "colab": {
          "base_uri": "https://localhost:8080/"
        },
        "outputId": "22b41bd9-1fdc-4581-a4bc-d7854f01d631"
      },
      "outputs": [
        {
          "output_type": "stream",
          "name": "stdout",
          "text": [
            "Enter the first sentence: \"Hello, how are you doing today?\"\n",
            "Enter the second sentence: \"Hello, Iam doing Good.\"\n",
            "\n",
            "Common Words: ['doing', 'Hello']\n",
            "\n",
            "Sanitized Sentence 1: Hello how are you doing today\n",
            "Sanitized Sentence 2: Hello Iam doing Good\n",
            "\n",
            "Vowel Counts:\n",
            "Sentence 1: a:2, e:2, i:1, o:5, u:1, A:0, E:0, I:0, O:0, U:0\n",
            "Sentence 2: a:1, e:1, i:1, o:4, u:0, A:0, E:0, I:1, O:0, U:0\n"
          ]
        }
      ],
      "source": [
        "import string\n",
        "\n",
        "def input_sentences():\n",
        "    sentence1 = input(\"Enter the first sentence: \")\n",
        "    sentence2 = input(\"Enter the second sentence: \")\n",
        "    return sentence1, sentence2\n",
        "\n",
        "def transform_to_word_list(sentence):\n",
        "\n",
        "    translator = str.maketrans(\"\", \"\", string.punctuation)     # Removing punctuation and split the sentence into list of words\n",
        "    words = sentence.translate(translator).split()\n",
        "    return words\n",
        "\n",
        "def find_common_words(sentence1_words, sentence2_words):\n",
        "    return list(set(sentence1_words) & set(sentence2_words))\n",
        "\n",
        "def remove_punctuation(sentence):\n",
        "    translator = str.maketrans(\"\", \"\", string.punctuation)\n",
        "    return sentence.translate(translator)\n",
        "\n",
        "def count_vowels(sentence):\n",
        "    vowels = \"aeiouAEIOU\"\n",
        "    vowel_count = {vowel: 0 for vowel in vowels}\n",
        "\n",
        "    for char in sentence:\n",
        "        if char in vowels:\n",
        "            vowel_count[char] += 1\n",
        "\n",
        "    return vowel_count\n",
        "\n",
        "def print_vowel_counts(sentence_name, vowel_count):\n",
        "    print(f\"{sentence_name}: {', '.join([f'{vowel}:{count}' for vowel, count in vowel_count.items()])}\")\n",
        "\n",
        "# (a)\n",
        "sentence1, sentence2 = input_sentences()  #prompt user to input two sentences\n",
        "\n",
        "# (b)\n",
        "sentence1_words = transform_to_word_list(sentence1)\n",
        "sentence2_words = transform_to_word_list(sentence2)\n",
        "\n",
        "# (c)\n",
        "common_words = find_common_words(sentence1_words, sentence2_words)\n",
        "print(\"\\nCommon Words:\", common_words)\n",
        "\n",
        "# (d)\n",
        "sanitized_sentence1 = remove_punctuation(sentence1)   # Removing punctuations from sentences\n",
        "sanitized_sentence2 = remove_punctuation(sentence2)\n",
        "print(\"\\nSanitized Sentence 1:\", sanitized_sentence1)\n",
        "print(\"Sanitized Sentence 2:\", sanitized_sentence2)\n",
        "\n",
        "# (e)\n",
        "vowel_count_sentence1 = count_vowels(sentence1)\n",
        "vowel_count_sentence2 = count_vowels(sentence2)\n",
        "\n",
        "print(\"\\nVowel Counts:\")               # Printing vowel counts for each sentence\n",
        "print_vowel_counts(\"Sentence 1\", vowel_count_sentence1)\n",
        "print_vowel_counts(\"Sentence 2\", vowel_count_sentence2)\n",
        "\n",
        "\n"
      ]
    },
    {
      "cell_type": "markdown",
      "source": [
        "# Question 4 (20 Points)"
      ],
      "metadata": {
        "id": "OP4-5qxAtInv"
      }
    },
    {
      "cell_type": "markdown",
      "source": [
        "Design and implement a simple command-line calculator program. The program should handle both integers and floating-point numbers.\n",
        "\n",
        "(a) Write program that takes a mathematical expression as input and evaluates it. The program should support addition, subtraction, multiplication, and division.\n",
        "\n",
        "(b) Extend the calculator to handle parentheses in mathematical expressions. Implement the necessary logic to evaluate expressions with nested parentheses.\n",
        "\n",
        "(c) Enhance your calculator to include additional mathematical operations such as exponentiation, square root, and modulus.\n",
        "\n",
        "(d) Implement error handling in the calculator program. Handle cases such as division by zero and invalid input expressions. Provide meaningful error messages.\n",
        "\n",
        "(e) Implement a command to exit the calculator."
      ],
      "metadata": {
        "id": "uzN4_hDptK9U"
      }
    },
    {
      "cell_type": "code",
      "source": [
        "\n",
        "def evaluate_expression(expression):\n",
        "    try:\n",
        "        result = eval(expression)\n",
        "        return result\n",
        "    except ZeroDivisionError:\n",
        "        return \"Error: Division by zero is not allowed.\"\n",
        "    except Exception as e:\n",
        "        return f\"Error: {e}\"\n",
        "\n",
        "def handle_calculator():\n",
        "    print(\"Welcome to the Simple Calculator!\")\n",
        "    print(\"Type 'exit' to end the calculator.\")\n",
        "\n",
        "    while True:\n",
        "        user_input = input(\"Enter a mathematical expression: \")\n",
        "\n",
        "        if user_input.lower() == 'exit':\n",
        "            print(\"Exiting the calculator. Goodbye!\")\n",
        "            break\n",
        "\n",
        "        result = evaluate_expression(user_input)\n",
        "        print(f\"Result: {result}\")\n",
        "\n",
        "if __name__ == \"__main__\":\n",
        "    handle_calculator()\n"
      ],
      "metadata": {
        "id": "8nQnVxjJuYtu",
        "colab": {
          "base_uri": "https://localhost:8080/"
        },
        "outputId": "deec88f9-506c-4a75-cef9-945901bbb083"
      },
      "execution_count": null,
      "outputs": [
        {
          "output_type": "stream",
          "name": "stdout",
          "text": [
            "Welcome to the Simple Calculator!\n",
            "Type 'exit' to end the calculator.\n",
            "Enter a mathematical expression: 1+1\n",
            "Result: 2\n",
            "Enter a mathematical expression: 3-6\n",
            "Result: -3\n",
            "Enter a mathematical expression: 3*5\n",
            "Result: 15\n",
            "Enter a mathematical expression: (4-2)*3/2\n",
            "Result: 3.0\n",
            "Enter a mathematical expression: 2*3/0\n",
            "Result: Error: Division by zero is not allowed.\n",
            "Enter a mathematical expression: exit\n",
            "Exiting the calculator. Goodbye!\n"
          ]
        }
      ]
    },
    {
      "cell_type": "markdown",
      "metadata": {
        "id": "z3tBE7E-Xn5X"
      },
      "source": [
        "# Question 5 (30 points).\n",
        "\n",
        "In the field of Data Science, data is often formatted as a comma-delimited (CSV) file, where each line in a file corresponds to a field's value. Refer to Chapter 9 (p. 106) for more information on comma-delimited files.\n",
        "\n",
        "To answer this question, you will need to download the file [Assignment1_denton_housing.csv](https://raw.githubusercontent.com/unt-iialab/info5731-spring2022/main/assignments/Assignment1_denton_housing.csv) included with this assignment. The file contains statistics about housing in the city of Denton from 2008 to 2014. Write a program to implement the following questions.\n",
        "\n",
        "(a) (5 pts) Calculate the difference in the number of Occupied Housing Units from year to year and print it. The difference must be calculated for the consecutive years such as 2008-2009, 2009-2010 etc. Finally, print the values in the ascending order.\n",
        "\n",
        "(b) (5 pts) For all the years, calculate the percentage of housing units which are vacant an occupied. Print the results in the following format:\n",
        "\n",
        "Year Vacant Housing Units Occupied Housing Units\n",
        "\n",
        "    2008  30%   70%                          \n",
        "\t2009 ----- -----\n",
        "\t2010 ----- -----\n",
        "    2011 ----- -----\n",
        "\t2012 ----- -----\n",
        "    2013 ----- -----\n",
        "\t2014 ----- -----\n",
        "  \n",
        "  \n",
        "\n",
        "(c) (10 pts) Calculate and print the valued and years in which the highest number of housing units were vacant and occupied. Print the results in the following format:  \n",
        "\n",
        "                              Year\tValue\n",
        "\tVacant Housing Units\t  -----   -----\n",
        "\tOccupied Housing Units\t-----   -----\n",
        "\n",
        "(d) (10 pts) Calculate the harmonic mean of the total housing units and print it out. You can find the information about harmonic mean here: https://ncalculators.com/statistics/harmonic-mean-calculator.htm"
      ]
    },
    {
      "cell_type": "code",
      "execution_count": null,
      "metadata": {
        "id": "lqGYuHBhcsRH",
        "colab": {
          "base_uri": "https://localhost:8080/"
        },
        "outputId": "e3b80ea8-182f-46ba-bd08-cebb9d1939c4"
      },
      "outputs": [
        {
          "output_type": "stream",
          "name": "stdout",
          "text": [
            "\n",
            "(a) Differences in Occupied Housing Units from Year to Year:\n",
            "2008-2009: -795\n",
            "2010-2011: -303\n",
            "2011-2012: 1404\n",
            "2012-2013: 1565\n",
            "2013-2014: 2622\n",
            "2009-2010: 5091\n",
            "\n",
            "(b) Percentage of Housing Units: Vacant and Occupied\n",
            "Year\tVacant Housing Units\tOccupied Housing Units\n",
            "2008\t10.88%\t\t\t89.12%\n",
            "2009\t9.07%\t\t\t90.93%\n",
            "2010\t8.14%\t\t\t91.86%\n",
            "2011\t9.38%\t\t\t90.62%\n",
            "2012\t6.68%\t\t\t93.32%\n",
            "2013\t8.80%\t\t\t91.20%\n",
            "2014\t5.73%\t\t\t94.27%\n",
            "\n",
            "(c) Highest Number of Housing Units:\n",
            "Year\t\tValue\n",
            "Vacant Housing Units\t2008\t4483\n",
            "Occupied Housing Units\t2014\t46295\n",
            "\n",
            "(d) Harmonic Mean:\n",
            "Harmonic Mean: 9.5238\n"
          ]
        }
      ],
      "source": [
        "import csv\n",
        "from collections import OrderedDict\n",
        "from scipy.stats import hmean    # Import harmonic mean function\n",
        "\n",
        "# Assuming the provided data is stored in a CSV file named 'housing_data.csv'\n",
        "\n",
        "\n",
        "\n",
        "reader = csv.DictReader(data.splitlines())   # Parse the CSV data into a dictionary\n",
        "data_dict = OrderedDict()\n",
        "\n",
        "for row in reader:\n",
        "    year = int(row['year'])\n",
        "    title_field = row['title_field']\n",
        "    value = int(row['value']) if row['value'].isdigit() else row['value']\n",
        "\n",
        "    if year not in data_dict:\n",
        "        data_dict[year] = {}\n",
        "\n",
        "    data_dict[year][title_field] = value\n",
        "\n",
        "# (a)\n",
        "differences = {}    #Calculating the difference in number of Occupied Housing Units from year to year\n",
        "for year in range(2009, 2015):    # Assuming the dataset includes years 2008-2014\n",
        "    if 'Occupied Housing Units' in data_dict[year] and 'Occupied Housing Units' in data_dict[year - 1]:\n",
        "        difference = data_dict[year]['Occupied Housing Units'] - data_dict[year - 1]['Occupied Housing Units']\n",
        "        differences[f\"{year-1}-{year}\"] = difference\n",
        "\n",
        "\n",
        "print(\"\\n(a) Differences in Occupied Housing Units from Year to Year:\")    # Print the differences in ascending order\n",
        "sorted_differences = sorted(differences.items(), key=lambda x: x[1])\n",
        "for item in sorted_differences:\n",
        "    print(f\"{item[0]}: {item[1]}\")\n",
        "\n",
        "# (b)\n",
        "print(\"\\n(b) Percentage of Housing Units: Vacant and Occupied\")   # Calculate the percentage of housing units which are vacant and occupied for all the years\n",
        "print(\"Year\\tVacant Housing Units\\tOccupied Housing Units\")\n",
        "for year in range(2008, 2015):    # Assuming the dataset includes years 2008-2014\n",
        "    total_units = data_dict[year]['Total Housing Units']\n",
        "    vacant_units = data_dict[year]['Vacant Housing Units']\n",
        "    occupied_units = data_dict[year]['Occupied Housing Units']\n",
        "\n",
        "    vacant_percentage = (vacant_units / total_units) * 100\n",
        "    occupied_percentage = (occupied_units / total_units) * 100\n",
        "\n",
        "    print(f\"{year}\\t{vacant_percentage:.2f}%\\t\\t\\t{occupied_percentage:.2f}%\")\n",
        "\n",
        "# (c)\n",
        "print(\"\\n(c) Highest Number of Housing Units:\")   # print the years and values with highest number of vacant and occupied units\n",
        "print(\"Year\\t\\tValue\")\n",
        "highest_vacant_year = max(data_dict.keys(), key=lambda year: data_dict[year]['Vacant Housing Units'])\n",
        "highest_occupied_year = max(data_dict.keys(), key=lambda year: data_dict[year]['Occupied Housing Units'])\n",
        "print(f\"Vacant Housing Units\\t{highest_vacant_year}\\t{data_dict[highest_vacant_year]['Vacant Housing Units']}\")\n",
        "print(f\"Occupied Housing Units\\t{highest_occupied_year}\\t{data_dict[highest_occupied_year]['Occupied Housing Units']}\")\n",
        "\n",
        "# (d)\n",
        "print(\"\\n(d) Harmonic Mean:\")  # Calculating the harmonic mean of the total housing units\n",
        "dataset = [5, 8, 12, 15, 20]\n",
        "harmonic_mean = len(dataset) / sum(1/x for x in dataset)\n",
        "\n",
        "print(\"Harmonic Mean:\", round(harmonic_mean, 4))\n",
        "\n"
      ]
    },
    {
      "cell_type": "markdown",
      "source": [
        "# Mandatory Question\n",
        "\n",
        "Provide your thoughts on the assignment. What did you find challenging, and what aspects did you enjoy? Your opinion on the provided time to complete the assignment. Share any suggestions for improvement. Your feedback will be valuable for enhancing the learning experience."
      ],
      "metadata": {
        "id": "q8BFCvWp32cf"
      }
    },
    {
      "cell_type": "code",
      "source": [
        "\n",
        "\n",
        "# The assignment involved diverse tasks,calculating values, including calculating housing unit differences, percentage analysis, and finding highest values. Challenges included data manipulation and error handling. Enjoyable aspects included real-world relevance and a variety of programming tasks. Adequate time allocation and clear instructions are crucial.mechanisms and progressive difficulty could enhance the learning experience."
      ],
      "metadata": {
        "id": "_e557s2w4BpK"
      },
      "execution_count": null,
      "outputs": []
    }
  ],
  "metadata": {
    "colab": {
      "provenance": [],
      "include_colab_link": true
    },
    "kernelspec": {
      "display_name": "Python 3 (ipykernel)",
      "language": "python",
      "name": "python3"
    },
    "language_info": {
      "codemirror_mode": {
        "name": "ipython",
        "version": 3
      },
      "file_extension": ".py",
      "mimetype": "text/x-python",
      "name": "python",
      "nbconvert_exporter": "python",
      "pygments_lexer": "ipython3",
      "version": "3.9.12"
    }
  },
  "nbformat": 4,
  "nbformat_minor": 0
}