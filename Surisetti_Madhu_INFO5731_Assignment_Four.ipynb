{
  "cells": [
    {
      "cell_type": "markdown",
      "metadata": {
        "id": "view-in-github",
        "colab_type": "text"
      },
      "source": [
        "<a href=\"https://colab.research.google.com/github/Madhu-3499/DataScienceEssentials/blob/main/Surisetti_Madhu_INFO5731_Assignment_Four.ipynb\" target=\"_parent\"><img src=\"https://colab.research.google.com/assets/colab-badge.svg\" alt=\"Open In Colab\"/></a>"
      ]
    },
    {
      "cell_type": "markdown",
      "metadata": {
        "id": "USSdXHuqnwv9"
      },
      "source": [
        "# **INFO5731 Assignment Four**\n",
        "\n",
        "In this assignment, you are required to conduct topic modeling, sentiment analysis based on **the dataset you created from assignment three**."
      ]
    },
    {
      "cell_type": "markdown",
      "metadata": {
        "id": "YWxodXh5n4xF"
      },
      "source": [
        "# **Question 1: Topic Modeling**"
      ]
    },
    {
      "cell_type": "markdown",
      "metadata": {
        "id": "TenBkDJ5n95k"
      },
      "source": [
        "(30 points). This question is designed to help you develop a feel for the way topic modeling works, the connection to the human meanings of documents. Based on the dataset from assignment three, write a python program to **identify the top 10 topics in the dataset**. Before answering this question, please review the materials in lesson 8, especially the code for LDA, LSA, and BERTopic. The following information should be reported:\n",
        "\n",
        "1. Features (text representation) used for topic modeling.\n",
        "\n",
        "2. Top 10 clusters for topic modeling.\n",
        "\n",
        "3. Summarize and describe the topic for each cluster.\n"
      ]
    },
    {
      "cell_type": "code",
      "execution_count": 6,
      "metadata": {
        "id": "PuFPKhC0m1fd",
        "colab": {
          "base_uri": "https://localhost:8080/"
        },
        "outputId": "d7e8275e-0c28-4a72-f057-93dd2dcbc928"
      },
      "outputs": [
        {
          "output_type": "stream",
          "name": "stderr",
          "text": [
            "[nltk_data] Downloading package stopwords to /root/nltk_data...\n",
            "[nltk_data]   Package stopwords is already up-to-date!\n",
            "[nltk_data] Downloading package punkt to /root/nltk_data...\n",
            "[nltk_data]   Package punkt is already up-to-date!\n",
            "[nltk_data] Downloading package wordnet to /root/nltk_data...\n",
            "[nltk_data]   Package wordnet is already up-to-date!\n"
          ]
        },
        {
          "output_type": "stream",
          "name": "stdout",
          "text": [
            "(0, '0.015*\"realli\" + 0.010*\"movi\" + 0.010*\"bad\" + 0.010*\"diesel\" + 0.010*\"good\" + 0.010*\"wors\" + 0.010*\"couldnt\" + 0.010*\"mediocr\" + 0.010*\"isnt\" + 0.010*\"enjoy\"')\n",
            "(1, '0.025*\"race\" + 0.013*\"even\" + 0.012*\"franchis\" + 0.010*\"film\" + 0.010*\"end\" + 0.008*\"tri\" + 0.007*\"one\" + 0.007*\"scene\" + 0.006*\"fast\" + 0.006*\"stori\"')\n",
            "(2, '0.001*\"momoa\" + 0.001*\"film\" + 0.001*\"race\" + 0.001*\"bad\" + 0.001*\"one\" + 0.001*\"see\" + 0.001*\"start\" + 0.001*\"get\" + 0.001*\"movi\" + 0.001*\"fast\"')\n",
            "(3, '0.039*\"movi\" + 0.014*\"charact\" + 0.014*\"action\" + 0.014*\"like\" + 0.014*\"scene\" + 0.012*\"make\" + 0.011*\"actual\" + 0.011*\"fast\" + 0.010*\"dont\" + 0.010*\"even\"')\n",
            "(4, '0.020*\"movi\" + 0.015*\"action\" + 0.015*\"fast\" + 0.010*\"bad\" + 0.010*\"scene\" + 0.008*\"one\" + 0.008*\"watch\" + 0.008*\"car\" + 0.007*\"even\" + 0.007*\"get\"')\n",
            "(5, '0.016*\"movi\" + 0.014*\"one\" + 0.009*\"screw\" + 0.009*\"car\" + 0.009*\"make\" + 0.008*\"famili\" + 0.008*\"scene\" + 0.008*\"good\" + 0.008*\"bad\" + 0.007*\"time\"')\n",
            "(6, '0.001*\"film\" + 0.001*\"stori\" + 0.001*\"charact\" + 0.001*\"like\" + 0.001*\"franchis\" + 0.001*\"even\" + 0.001*\"previou\" + 0.001*\"fast\" + 0.001*\"think\" + 0.001*\"scene\"')\n",
            "(7, '0.013*\"movi\" + 0.010*\"one\" + 0.010*\"went\" + 0.010*\"peopl\" + 0.010*\"villain\" + 0.009*\"last\" + 0.008*\"fast\" + 0.008*\"plot\" + 0.008*\"scene\" + 0.008*\"entir\"')\n",
            "(8, '0.018*\"charact\" + 0.015*\"like\" + 0.010*\"medium\" + 0.010*\"franchis\" + 0.009*\"time\" + 0.008*\"good\" + 0.007*\"guy\" + 0.007*\"wast\" + 0.006*\"bad\" + 0.005*\"movi\"')\n",
            "(9, '0.021*\"movi\" + 0.016*\"last\" + 0.016*\"film\" + 0.013*\"charact\" + 0.013*\"start\" + 0.008*\"franchis\" + 0.008*\"scene\" + 0.008*\"action\" + 0.008*\"see\" + 0.008*\"write\"')\n"
          ]
        }
      ],
      "source": [
        "# Write your code here\n",
        "import pandas as pd\n",
        "import nltk\n",
        "from nltk.tokenize import word_tokenize\n",
        "from nltk.corpus import stopwords\n",
        "from nltk.stem import WordNetLemmatizer\n",
        "from gensim.models import LdaModel\n",
        "from gensim.corpora import Dictionary\n",
        "\n",
        "# Download necessary nltk resources\n",
        "nltk.download('stopwords')\n",
        "nltk.download('punkt')\n",
        "nltk.download('wordnet')\n",
        "\n",
        "# Load the dataset\n",
        "df = pd.read_csv('cleaned_reviews.csv')\n",
        "\n",
        "# Preprocessing function\n",
        "def preprocess_text(text):\n",
        "    stop_words = set(stopwords.words('english'))\n",
        "    lemmatizer = WordNetLemmatizer()\n",
        "    tokens = word_tokenize(text)\n",
        "    tokens = [word for word in tokens if word.lower() not in stop_words and len(word) > 1]\n",
        "    lemmatized_tokens = [lemmatizer.lemmatize(word) for word in tokens]\n",
        "    return lemmatized_tokens\n",
        "\n",
        "# Apply preprocessing\n",
        "df['clean_text'] = df['cleaned_text'].apply(preprocess_text)  # Update 'text_column_name' to the name of your text column\n",
        "\n",
        "# Prepare the text data\n",
        "texts = df['clean_text'].tolist()\n",
        "dictionary = Dictionary(texts)\n",
        "corpus = [dictionary.doc2bow(text) for text in texts]\n",
        "\n",
        "# Train LDA model\n",
        "lda_model = LdaModel(corpus=corpus, id2word=dictionary, num_topics=10, passes=15)\n",
        "\n",
        "# Display the topics\n",
        "topics = lda_model.print_topics(num_words=10)\n",
        "for topic in topics:\n",
        "    print(topic)\n",
        "\n",
        "\n"
      ]
    },
    {
      "cell_type": "markdown",
      "metadata": {
        "id": "AfpMRCrRwN6Z"
      },
      "source": [
        "# **Question 2: Sentiment Analysis**"
      ]
    },
    {
      "cell_type": "markdown",
      "metadata": {
        "id": "1dCQEbDawWCw"
      },
      "source": [
        "(30 points). Sentiment analysis also known as opinion mining is a sub field within Natural Language Processing (NLP) that builds machine learning algorithms to classify a text according to the sentimental polarities of opinions it contains, e.g., positive, negative, neutral. The purpose of this question is to develop a machine learning classifier for sentiment analysis. Based on the dataset from assignment three, write a python program to implement a sentiment classifier and evaluate its performance. Notice: **80% data for training and 20% data for testing**.  \n",
        "\n",
        "1. Select features for the sentiment classification and explain why you select these features. Use a markdown cell to provide your explanation.\n",
        "\n",
        "2. Select two of the supervised learning algorithms/models from scikit-learn library: https://scikit-learn.org/stable/supervised_learning.html#supervised-learning, to build two sentiment classifiers respectively. Note: Cross-validation (5-fold or 10-fold) should be conducted. Here is the reference of cross-validation: https://scikit-learn.org/stable/modules/cross_validation.html.\n",
        "\n",
        "3. Compare the performance over accuracy, precision, recall, and F1 score for the two algorithms you selected. The test set must be used for model evaluation in this step. Here is the reference of how to calculate these metrics: https://towardsdatascience.com/accuracy-precision-recall-or-f1-331fb37c5cb9."
      ]
    },
    {
      "cell_type": "code",
      "source": [
        "import pandas as pd\n",
        "import numpy as np\n",
        "from sklearn.model_selection import train_test_split, cross_val_score\n",
        "from sklearn.feature_extraction.text import TfidfVectorizer\n",
        "from sklearn.linear_model import LogisticRegression\n",
        "from sklearn.naive_bayes import MultinomialNB\n",
        "from sklearn.metrics import accuracy_score, precision_score, recall_score, f1_score\n",
        "from sklearn.pipeline import make_pipeline\n",
        "\n",
        "# Load the dataset\n",
        "df = pd.read_csv('cleaned_reviews.csv')\n",
        "\n",
        "# If 'rating' is used for sentiment, ensure it's converted to a binary format, e.g., positive (1) or negative (0)\n",
        "# Modify this section as per actual sentiment representation\n",
        "# For simplicity, let's assume ratings above 3 are positive (1), and 3 or below are negative (0)\n",
        "df['sentiment'] = df['rating'].apply(lambda x: 1 if x > 3 else 0)\n",
        "\n",
        "# Splitting the dataset into training and testing sets\n",
        "train_data, test_data, train_labels, test_labels = train_test_split(\n",
        "    df['review_text'], df['sentiment'], test_size=0.2, random_state=42)\n",
        "\n",
        "# Feature extraction: Using TF-IDF to convert text data to numeric.\n",
        "vectorizer = TfidfVectorizer(stop_words='english', max_features=1000)\n",
        "\n",
        "# Model 1: Logistic Regression\n",
        "lr_pipeline = make_pipeline(vectorizer, LogisticRegression())\n",
        "lr_pipeline.fit(train_data, train_labels)\n",
        "\n",
        "# Model 2: Multinomial Naive Bayes\n",
        "nb_pipeline = make_pipeline(vectorizer, MultinomialNB())\n",
        "nb_pipeline.fit(train_data, train_labels)\n",
        "\n",
        "# Evaluate with cross-validation\n",
        "cv_folds = 5\n",
        "\n",
        "lr_scores = cross_val_score(lr_pipeline, train_data, train_labels, cv=cv_folds, scoring='accuracy')\n",
        "nb_scores = cross_val_score(nb_pipeline, train_data, train_labels, cv=cv_folds, scoring='accuracy')\n",
        "\n",
        "print(f\"Logistic Regression CV Accuracy: {np.mean(lr_scores):.2f}\")\n",
        "print(f\"Multinomial Naive Bayes CV Accuracy: {np.mean(nb_scores):.2f}\")\n",
        "\n",
        "# Testing the models on the test dataset\n",
        "def evaluate_model(model, test_data, test_labels):\n",
        "    predictions = model.predict(test_data)\n",
        "    accuracy = accuracy_score(test_labels, predictions)\n",
        "    precision = precision_score(test_labels, predictions, average='weighted')\n",
        "    recall = recall_score(test_labels, predictions, average='weighted')\n",
        "    f1 = f1_score(test_labels, predictions, average='weighted')\n",
        "    return accuracy, precision, recall, f1\n",
        "\n",
        "lr_accuracy, lr_precision, lr_recall, lr_f1 = evaluate_model(lr_pipeline, test_data, test_labels)\n",
        "nb_accuracy, nb_precision, nb_recall, nb_f1 = evaluate_model(nb_pipeline, test_data, test_labels)\n",
        "\n",
        "print(\"Logistic Regression Test Metrics:\")\n",
        "print(f\"Accuracy: {lr_accuracy:.2f}, Precision: {lr_precision:.2f}, Recall: {lr_recall:.2f}, F1 Score: {lr_f1:.2f}\")\n",
        "\n",
        "print(\"Multinomial Naive Bayes Test Metrics:\")\n",
        "print(f\"Accuracy: {nb_accuracy:.2f}, Precision: {nb_precision:.2f}, Recall: {nb_recall:.2f}, F1 Score: {nb_f1:.2f}\")\n"
      ],
      "metadata": {
        "colab": {
          "base_uri": "https://localhost:8080/"
        },
        "id": "amkxW94h9VCD",
        "outputId": "98d7015b-6adb-4a87-963c-7efee22e10ec"
      },
      "execution_count": 10,
      "outputs": [
        {
          "output_type": "stream",
          "name": "stdout",
          "text": [
            "Logistic Regression CV Accuracy: 0.65\n",
            "Multinomial Naive Bayes CV Accuracy: 0.65\n",
            "Logistic Regression Test Metrics:\n",
            "Accuracy: 0.60, Precision: 0.36, Recall: 0.60, F1 Score: 0.45\n",
            "Multinomial Naive Bayes Test Metrics:\n",
            "Accuracy: 0.60, Precision: 0.36, Recall: 0.60, F1 Score: 0.45\n"
          ]
        },
        {
          "output_type": "stream",
          "name": "stderr",
          "text": [
            "/usr/local/lib/python3.10/dist-packages/sklearn/metrics/_classification.py:1344: UndefinedMetricWarning: Precision is ill-defined and being set to 0.0 in labels with no predicted samples. Use `zero_division` parameter to control this behavior.\n",
            "  _warn_prf(average, modifier, msg_start, len(result))\n",
            "/usr/local/lib/python3.10/dist-packages/sklearn/metrics/_classification.py:1344: UndefinedMetricWarning: Precision is ill-defined and being set to 0.0 in labels with no predicted samples. Use `zero_division` parameter to control this behavior.\n",
            "  _warn_prf(average, modifier, msg_start, len(result))\n"
          ]
        }
      ]
    },
    {
      "cell_type": "markdown",
      "metadata": {
        "id": "E5mmYIfN8eYV"
      },
      "source": [
        "# **Question 3: House price prediction**"
      ]
    },
    {
      "cell_type": "markdown",
      "metadata": {
        "id": "hsi2y4z88ngX"
      },
      "source": [
        "(20 points). You are required to build a **regression** model to predict the house price with 79 explanatory variables describing (almost) every aspect of residential homes. The purpose of this question is to practice regression analysis, an supervised learning model. The training data, testing data, and data description files can be download from canvas. Here is an axample for implementation: https://towardsdatascience.com/linear-regression-in-python-predict-the-bay-areas-home-price-5c91c8378878.\n",
        "\n",
        "1. Conduct necessary Explatory Data Analysis (EDA) and data cleaning steps on the given dataset. Split data for training and testing.\n",
        "2. Based on the EDA results, select a number of features for the regression model. Shortly explain why you select those features.\n",
        "3. Develop a regression model. The train set should be used.\n",
        "4. Evaluate performance of the regression model you developed using appropriate evaluation metrics. The test set should be used."
      ]
    },
    {
      "cell_type": "code",
      "source": [
        "import pandas as pd\n",
        "from sklearn.model_selection import train_test_split\n",
        "from sklearn.linear_model import LinearRegression\n",
        "import numpy as np\n",
        "from sklearn.metrics import mean_squared_error\n",
        "\n",
        "# Load the data\n",
        "df_train = pd.read_csv(\"/train.csv\")\n",
        "df_test = pd.read_csv(\"/test.csv\")\n",
        "\n",
        "# Exploratory Data Analysis (EDA)\n",
        "print(\"Train Data Info:\")\n",
        "print(df_train.info())\n",
        "print(\"\\nTest Data Info:\")\n",
        "print(df_test.info())\n",
        "\n",
        "# Data Cleaning\n",
        "# Drop columns with too many missing values\n",
        "missing_threshold = 0.5\n",
        "missing_cols_train = df_train.columns[df_train.isnull().mean() > missing_threshold]\n",
        "missing_cols_test = df_test.columns[df_test.isnull().mean() > missing_threshold]\n",
        "df_train.drop(columns=missing_cols_train, inplace=True)\n",
        "df_test.drop(columns=missing_cols_test, inplace=True)\n",
        "\n",
        "# Fill missing values with mean for numerical columns\n",
        "num_cols_train = df_train.select_dtypes(include=np.number).columns\n",
        "num_cols_test = df_test.select_dtypes(include=np.number).columns\n",
        "df_train[num_cols_train] = df_train[num_cols_train].fillna(df_train[num_cols_train].mean())\n",
        "df_test[num_cols_test] = df_test[num_cols_test].fillna(df_test[num_cols_test].mean())\n",
        "\n",
        "# Selecting numeric features\n",
        "numeric_features = df_train.select_dtypes(include=[np.number]).columns.tolist()\n",
        "selected_features = numeric_features[:10]  # Selecting the first 10 numeric features\n",
        "print(\"\\nSelected Features:\", selected_features)\n",
        "\n",
        "# Prepare data for training\n",
        "X_train = df_train[selected_features]\n",
        "y_train = df_train['SalePrice']\n",
        "\n",
        "# Split data into training and testing sets\n",
        "X_train, X_test, y_train, y_test = train_test_split(X_train, y_train, test_size=0.2, random_state=42)\n",
        "\n",
        "# Develop a regression model\n",
        "regression = LinearRegression()\n",
        "regression.fit(X_train, y_train)\n",
        "\n",
        "# Make predictions on the test set\n",
        "y_pred = regression.predict(X_test)\n",
        "\n",
        "# Evaluate the model\n",
        "r_squared = regression.score(X_test, y_test)\n",
        "print('\\nLinear Regression R-squared:', r_squared)\n",
        "\n",
        "# Calculate root mean squared error\n",
        "mse = mean_squared_error(y_pred, y_test)\n",
        "rmse = np.sqrt(mse)\n",
        "print('Root Mean Squared Error:', rmse)"
      ],
      "metadata": {
        "colab": {
          "base_uri": "https://localhost:8080/"
        },
        "id": "rhHYtxBqHtyz",
        "outputId": "79b532ed-5c8e-46b7-a123-1f53dac2bcf8"
      },
      "execution_count": 31,
      "outputs": [
        {
          "output_type": "stream",
          "name": "stdout",
          "text": [
            "Train Data Info:\n",
            "<class 'pandas.core.frame.DataFrame'>\n",
            "RangeIndex: 1460 entries, 0 to 1459\n",
            "Data columns (total 81 columns):\n",
            " #   Column         Non-Null Count  Dtype  \n",
            "---  ------         --------------  -----  \n",
            " 0   Id             1460 non-null   int64  \n",
            " 1   MSSubClass     1460 non-null   int64  \n",
            " 2   MSZoning       1460 non-null   object \n",
            " 3   LotFrontage    1201 non-null   float64\n",
            " 4   LotArea        1460 non-null   int64  \n",
            " 5   Street         1460 non-null   object \n",
            " 6   Alley          91 non-null     object \n",
            " 7   LotShape       1460 non-null   object \n",
            " 8   LandContour    1460 non-null   object \n",
            " 9   Utilities      1460 non-null   object \n",
            " 10  LotConfig      1460 non-null   object \n",
            " 11  LandSlope      1460 non-null   object \n",
            " 12  Neighborhood   1460 non-null   object \n",
            " 13  Condition1     1460 non-null   object \n",
            " 14  Condition2     1460 non-null   object \n",
            " 15  BldgType       1460 non-null   object \n",
            " 16  HouseStyle     1460 non-null   object \n",
            " 17  OverallQual    1460 non-null   int64  \n",
            " 18  OverallCond    1460 non-null   int64  \n",
            " 19  YearBuilt      1460 non-null   int64  \n",
            " 20  YearRemodAdd   1460 non-null   int64  \n",
            " 21  RoofStyle      1460 non-null   object \n",
            " 22  RoofMatl       1460 non-null   object \n",
            " 23  Exterior1st    1460 non-null   object \n",
            " 24  Exterior2nd    1460 non-null   object \n",
            " 25  MasVnrType     588 non-null    object \n",
            " 26  MasVnrArea     1452 non-null   float64\n",
            " 27  ExterQual      1460 non-null   object \n",
            " 28  ExterCond      1460 non-null   object \n",
            " 29  Foundation     1460 non-null   object \n",
            " 30  BsmtQual       1423 non-null   object \n",
            " 31  BsmtCond       1423 non-null   object \n",
            " 32  BsmtExposure   1422 non-null   object \n",
            " 33  BsmtFinType1   1423 non-null   object \n",
            " 34  BsmtFinSF1     1460 non-null   int64  \n",
            " 35  BsmtFinType2   1422 non-null   object \n",
            " 36  BsmtFinSF2     1460 non-null   int64  \n",
            " 37  BsmtUnfSF      1460 non-null   int64  \n",
            " 38  TotalBsmtSF    1460 non-null   int64  \n",
            " 39  Heating        1460 non-null   object \n",
            " 40  HeatingQC      1460 non-null   object \n",
            " 41  CentralAir     1460 non-null   object \n",
            " 42  Electrical     1459 non-null   object \n",
            " 43  1stFlrSF       1460 non-null   int64  \n",
            " 44  2ndFlrSF       1460 non-null   int64  \n",
            " 45  LowQualFinSF   1460 non-null   int64  \n",
            " 46  GrLivArea      1460 non-null   int64  \n",
            " 47  BsmtFullBath   1460 non-null   int64  \n",
            " 48  BsmtHalfBath   1460 non-null   int64  \n",
            " 49  FullBath       1460 non-null   int64  \n",
            " 50  HalfBath       1460 non-null   int64  \n",
            " 51  BedroomAbvGr   1460 non-null   int64  \n",
            " 52  KitchenAbvGr   1460 non-null   int64  \n",
            " 53  KitchenQual    1460 non-null   object \n",
            " 54  TotRmsAbvGrd   1460 non-null   int64  \n",
            " 55  Functional     1460 non-null   object \n",
            " 56  Fireplaces     1460 non-null   int64  \n",
            " 57  FireplaceQu    770 non-null    object \n",
            " 58  GarageType     1379 non-null   object \n",
            " 59  GarageYrBlt    1379 non-null   float64\n",
            " 60  GarageFinish   1379 non-null   object \n",
            " 61  GarageCars     1460 non-null   int64  \n",
            " 62  GarageArea     1460 non-null   int64  \n",
            " 63  GarageQual     1379 non-null   object \n",
            " 64  GarageCond     1379 non-null   object \n",
            " 65  PavedDrive     1460 non-null   object \n",
            " 66  WoodDeckSF     1460 non-null   int64  \n",
            " 67  OpenPorchSF    1460 non-null   int64  \n",
            " 68  EnclosedPorch  1460 non-null   int64  \n",
            " 69  3SsnPorch      1460 non-null   int64  \n",
            " 70  ScreenPorch    1460 non-null   int64  \n",
            " 71  PoolArea       1460 non-null   int64  \n",
            " 72  PoolQC         7 non-null      object \n",
            " 73  Fence          281 non-null    object \n",
            " 74  MiscFeature    54 non-null     object \n",
            " 75  MiscVal        1460 non-null   int64  \n",
            " 76  MoSold         1460 non-null   int64  \n",
            " 77  YrSold         1460 non-null   int64  \n",
            " 78  SaleType       1460 non-null   object \n",
            " 79  SaleCondition  1460 non-null   object \n",
            " 80  SalePrice      1460 non-null   int64  \n",
            "dtypes: float64(3), int64(35), object(43)\n",
            "memory usage: 924.0+ KB\n",
            "None\n",
            "\n",
            "Test Data Info:\n",
            "<class 'pandas.core.frame.DataFrame'>\n",
            "RangeIndex: 1459 entries, 0 to 1458\n",
            "Data columns (total 80 columns):\n",
            " #   Column         Non-Null Count  Dtype  \n",
            "---  ------         --------------  -----  \n",
            " 0   Id             1459 non-null   int64  \n",
            " 1   MSSubClass     1459 non-null   int64  \n",
            " 2   MSZoning       1455 non-null   object \n",
            " 3   LotFrontage    1232 non-null   float64\n",
            " 4   LotArea        1459 non-null   int64  \n",
            " 5   Street         1459 non-null   object \n",
            " 6   Alley          107 non-null    object \n",
            " 7   LotShape       1459 non-null   object \n",
            " 8   LandContour    1459 non-null   object \n",
            " 9   Utilities      1457 non-null   object \n",
            " 10  LotConfig      1459 non-null   object \n",
            " 11  LandSlope      1459 non-null   object \n",
            " 12  Neighborhood   1459 non-null   object \n",
            " 13  Condition1     1459 non-null   object \n",
            " 14  Condition2     1459 non-null   object \n",
            " 15  BldgType       1459 non-null   object \n",
            " 16  HouseStyle     1459 non-null   object \n",
            " 17  OverallQual    1459 non-null   int64  \n",
            " 18  OverallCond    1459 non-null   int64  \n",
            " 19  YearBuilt      1459 non-null   int64  \n",
            " 20  YearRemodAdd   1459 non-null   int64  \n",
            " 21  RoofStyle      1459 non-null   object \n",
            " 22  RoofMatl       1459 non-null   object \n",
            " 23  Exterior1st    1458 non-null   object \n",
            " 24  Exterior2nd    1458 non-null   object \n",
            " 25  MasVnrType     565 non-null    object \n",
            " 26  MasVnrArea     1444 non-null   float64\n",
            " 27  ExterQual      1459 non-null   object \n",
            " 28  ExterCond      1459 non-null   object \n",
            " 29  Foundation     1459 non-null   object \n",
            " 30  BsmtQual       1415 non-null   object \n",
            " 31  BsmtCond       1414 non-null   object \n",
            " 32  BsmtExposure   1415 non-null   object \n",
            " 33  BsmtFinType1   1417 non-null   object \n",
            " 34  BsmtFinSF1     1458 non-null   float64\n",
            " 35  BsmtFinType2   1417 non-null   object \n",
            " 36  BsmtFinSF2     1458 non-null   float64\n",
            " 37  BsmtUnfSF      1458 non-null   float64\n",
            " 38  TotalBsmtSF    1458 non-null   float64\n",
            " 39  Heating        1459 non-null   object \n",
            " 40  HeatingQC      1459 non-null   object \n",
            " 41  CentralAir     1459 non-null   object \n",
            " 42  Electrical     1459 non-null   object \n",
            " 43  1stFlrSF       1459 non-null   int64  \n",
            " 44  2ndFlrSF       1459 non-null   int64  \n",
            " 45  LowQualFinSF   1459 non-null   int64  \n",
            " 46  GrLivArea      1459 non-null   int64  \n",
            " 47  BsmtFullBath   1457 non-null   float64\n",
            " 48  BsmtHalfBath   1457 non-null   float64\n",
            " 49  FullBath       1459 non-null   int64  \n",
            " 50  HalfBath       1459 non-null   int64  \n",
            " 51  BedroomAbvGr   1459 non-null   int64  \n",
            " 52  KitchenAbvGr   1459 non-null   int64  \n",
            " 53  KitchenQual    1458 non-null   object \n",
            " 54  TotRmsAbvGrd   1459 non-null   int64  \n",
            " 55  Functional     1457 non-null   object \n",
            " 56  Fireplaces     1459 non-null   int64  \n",
            " 57  FireplaceQu    729 non-null    object \n",
            " 58  GarageType     1383 non-null   object \n",
            " 59  GarageYrBlt    1381 non-null   float64\n",
            " 60  GarageFinish   1381 non-null   object \n",
            " 61  GarageCars     1458 non-null   float64\n",
            " 62  GarageArea     1458 non-null   float64\n",
            " 63  GarageQual     1381 non-null   object \n",
            " 64  GarageCond     1381 non-null   object \n",
            " 65  PavedDrive     1459 non-null   object \n",
            " 66  WoodDeckSF     1459 non-null   int64  \n",
            " 67  OpenPorchSF    1459 non-null   int64  \n",
            " 68  EnclosedPorch  1459 non-null   int64  \n",
            " 69  3SsnPorch      1459 non-null   int64  \n",
            " 70  ScreenPorch    1459 non-null   int64  \n",
            " 71  PoolArea       1459 non-null   int64  \n",
            " 72  PoolQC         3 non-null      object \n",
            " 73  Fence          290 non-null    object \n",
            " 74  MiscFeature    51 non-null     object \n",
            " 75  MiscVal        1459 non-null   int64  \n",
            " 76  MoSold         1459 non-null   int64  \n",
            " 77  YrSold         1459 non-null   int64  \n",
            " 78  SaleType       1458 non-null   object \n",
            " 79  SaleCondition  1459 non-null   object \n",
            "dtypes: float64(11), int64(26), object(43)\n",
            "memory usage: 912.0+ KB\n",
            "None\n",
            "\n",
            "Selected Features: ['Id', 'MSSubClass', 'LotFrontage', 'LotArea', 'OverallQual', 'OverallCond', 'YearBuilt', 'YearRemodAdd', 'MasVnrArea', 'BsmtFinSF1']\n",
            "\n",
            "Linear Regression R-squared: 0.7525976284545081\n",
            "Root Mean Squared Error: 43562.10387694369\n"
          ]
        }
      ]
    },
    {
      "cell_type": "markdown",
      "metadata": {
        "id": "_BbswDvnEX-k"
      },
      "source": [
        "# **Question 4: Using Pre-trained LLMs**"
      ]
    },
    {
      "cell_type": "markdown",
      "metadata": {
        "id": "xKwKTnW1EX-k"
      },
      "source": [
        "(20 points)\n",
        "Utilize a **Pre-trained Language Model (PLM) from the Hugging Face Repository** for predicting sentiment polarities on the data you collected in Assignment 3.\n",
        "\n",
        "Then, choose a relevant LLM from their repository, such as GPT-3, BERT, or RoBERTa or any other related models.\n",
        "1. (5 points) Provide a brief description of the PLM you selected, including its original pretraining data sources,  number of parameters, and any task-specific fine-tuning if applied.\n",
        "2. (10 points) Use the selected PLM to perform the sentiment analysis on the data collected in Assignment 3. Only use the model in the **zero-shot** setting, NO finetuning is required. Evaluate performance of the model by comparing with the groundtruths (labels you annotated) on Accuracy, Precision, Recall, and F1 metrics.\n",
        "3. (5 points) Discuss the advantages and disadvantages of the selected PLM, and any challenges encountered during the implementation. This will enable a comprehensive understanding of the chosen LLM's applicability and effectiveness for the given task.\n"
      ]
    },
    {
      "cell_type": "code",
      "execution_count": 22,
      "metadata": {
        "id": "BJgHWnOhFm-C",
        "colab": {
          "base_uri": "https://localhost:8080/"
        },
        "outputId": "23847a54-0f3a-4d87-be29-d9c53575daea"
      },
      "outputs": [
        {
          "output_type": "stream",
          "name": "stdout",
          "text": [
            "Missing values in the dataset:\n",
            "review_title         0\n",
            "review_text          0\n",
            "rating               0\n",
            "noise_removed        0\n",
            "numbers_removed      0\n",
            "lowercased           0\n",
            "stopwords_removed    0\n",
            "stemmed              0\n",
            "lemmatized           0\n",
            "cleaned_text         0\n",
            "dtype: int64\n"
          ]
        },
        {
          "output_type": "stream",
          "name": "stderr",
          "text": [
            "Some weights of RobertaForSequenceClassification were not initialized from the model checkpoint at distilroberta-base and are newly initialized: ['classifier.dense.bias', 'classifier.dense.weight', 'classifier.out_proj.bias', 'classifier.out_proj.weight']\n",
            "You should probably TRAIN this model on a down-stream task to be able to use it for predictions and inference.\n",
            "Token indices sequence length is longer than the specified maximum sequence length for this model (539 > 512). Running this sequence through the model will result in indexing errors\n"
          ]
        },
        {
          "output_type": "stream",
          "name": "stdout",
          "text": [
            "\n",
            "Processed DataFrame:\n",
            "                                        cleaned_text  \\\n",
            "0  thought couldnt possibl write someth even wors...   \n",
            "1  write exact review last transform last indiana...   \n",
            "2  fast furiou lot franchis point took action out...   \n",
            "3  point went see fast x without clue happen last...   \n",
            "4  movi start stori first ten minut fast five sto...   \n",
            "\n",
            "                                         review_text predicted_sentiment  \n",
            "0  I thought they couldn't possibly write somethi...               error  \n",
            "1  I can write the exact same review for the last...            negative  \n",
            "2  Fast & Furious 9 did what a lot of franchises ...            negative  \n",
            "3  By this point, I went to see Fast X without a ...            negative  \n",
            "4  The movie starts it story from the first ten m...            negative  \n",
            "\n",
            "Evaluation Metrics:\n",
            "Accuracy: 0.0\n",
            "Precision: 0.0\n",
            "Recall: 0.0\n",
            "F1 Score: 0.0\n"
          ]
        },
        {
          "output_type": "stream",
          "name": "stderr",
          "text": [
            "/usr/local/lib/python3.10/dist-packages/sklearn/metrics/_classification.py:1344: UndefinedMetricWarning: Precision is ill-defined and being set to 0.0 in labels with no predicted samples. Use `zero_division` parameter to control this behavior.\n",
            "  _warn_prf(average, modifier, msg_start, len(result))\n",
            "/usr/local/lib/python3.10/dist-packages/sklearn/metrics/_classification.py:1344: UndefinedMetricWarning: Recall is ill-defined and being set to 0.0 in labels with no true samples. Use `zero_division` parameter to control this behavior.\n",
            "  _warn_prf(average, modifier, msg_start, len(result))\n"
          ]
        }
      ],
      "source": [
        "# Write your code here\n",
        "\n",
        "import pandas as pd\n",
        "from transformers import pipeline\n",
        "from sklearn.metrics import accuracy_score, precision_score, recall_score, f1_score\n",
        "\n",
        "# Load the dataset\n",
        "df = pd.read_csv('cleaned_reviews.csv')\n",
        "\n",
        "# Check for missing values\n",
        "missing_values = df.isnull().sum()\n",
        "print(\"Missing values in the dataset:\")\n",
        "print(missing_values)\n",
        "\n",
        "# Drop rows with missing values in 'clean_text' and 'sentiment' columns\n",
        "df = df.dropna(subset=['cleaned_text', 'review_text'])\n",
        "\n",
        "# Initialize sentiment analysis pipeline\n",
        "sentiment_analysis = pipeline(\"sentiment-analysis\", model=\"distilroberta-base\")\n",
        "\n",
        "# Define a function to perform sentiment analysis and map output to expected labels\n",
        "def predict_sentiment(text):\n",
        "    try:\n",
        "        result = sentiment_analysis(text)[0]\n",
        "        if result['label'] == 'LABEL_0':\n",
        "            return 'negative'\n",
        "        elif result['label'] == 'LABEL_1':\n",
        "            return 'positive'\n",
        "    except Exception as e:\n",
        "        return 'error'\n",
        "\n",
        "# Apply sentiment prediction\n",
        "df['predicted_sentiment'] = df['cleaned_text'].apply(predict_sentiment)\n",
        "\n",
        "# Print example of predictions\n",
        "print(\"\\nProcessed DataFrame:\")\n",
        "print(df[['cleaned_text', 'review_text', 'predicted_sentiment']].head())\n",
        "\n",
        "# Calculate and display evaluation metrics\n",
        "accuracy = accuracy_score(df['review_text'], df['predicted_sentiment'])\n",
        "precision = precision_score(df['review_text'], df['predicted_sentiment'], average='weighted')\n",
        "recall = recall_score(df['review_text'], df['predicted_sentiment'], average='weighted')\n",
        "f1 = f1_score(df['review_text'], df['predicted_sentiment'], average='weighted')\n",
        "\n",
        "print(\"\\nEvaluation Metrics:\")\n",
        "print(f\"Accuracy: {accuracy}\")\n",
        "print(f\"Precision: {precision}\")\n",
        "print(f\"Recall: {recall}\")\n",
        "print(f\"F1 Score: {f1}\")\n",
        "\n"
      ]
    }
  ],
  "metadata": {
    "colab": {
      "provenance": [],
      "include_colab_link": true
    },
    "kernelspec": {
      "display_name": "Python 3 (ipykernel)",
      "language": "python",
      "name": "python3"
    },
    "language_info": {
      "codemirror_mode": {
        "name": "ipython",
        "version": 3
      },
      "file_extension": ".py",
      "mimetype": "text/x-python",
      "name": "python",
      "nbconvert_exporter": "python",
      "pygments_lexer": "ipython3",
      "version": "3.9.12"
    }
  },
  "nbformat": 4,
  "nbformat_minor": 0
}