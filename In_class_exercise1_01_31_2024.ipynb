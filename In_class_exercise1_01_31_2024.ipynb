{
  "cells": [
    {
      "cell_type": "markdown",
      "metadata": {
        "id": "view-in-github",
        "colab_type": "text"
      },
      "source": [
        "<a href=\"https://colab.research.google.com/github/Madhu-3499/DataScienceEssentials/blob/main/In_class_exercise1_01_31_2024.ipynb\" target=\"_parent\"><img src=\"https://colab.research.google.com/assets/colab-badge.svg\" alt=\"Open In Colab\"/></a>"
      ]
    },
    {
      "cell_type": "markdown",
      "metadata": {
        "id": "DymRJbxDBCnf"
      },
      "source": [
        "# **This first In-class-exercise cover a variety of fundamental concepts in Python and are designed to help individuals improve their coding skills and problem-solving abilities.**\n",
        "\n",
        "The submission is due on 01/31/2024 11:59 PM. This submission is worth 40 points in total.\n"
      ]
    },
    {
      "cell_type": "markdown",
      "metadata": {
        "id": "FBKvD6O_TY6e"
      },
      "source": [
        "(1) Write a Python program that  prompts the user to input the length and width of a rectangle, and then calculates and displays the area of the rectangle."
      ]
    },
    {
      "cell_type": "code",
      "execution_count": null,
      "metadata": {
        "id": "cikVKDXdTbzE",
        "colab": {
          "base_uri": "https://localhost:8080/"
        },
        "outputId": "6ddef431-5200-4be7-ba51-b0057d617ccb"
      },
      "outputs": [
        {
          "output_type": "stream",
          "name": "stdout",
          "text": [
            "Enter the length of the rectangle: 10\n",
            "Enter the width of the rectangle: 8\n",
            "The area of the rectangle with length 10.0 and width 8.0 is: 80.0\n"
          ]
        }
      ],
      "source": [
        "# Request the user's input regarding the rectangle's width and length.\n",
        "length = float(input(\"Enter the length of the rectangle: \"))\n",
        "width = float(input(\"Enter the width of the rectangle: \"))\n",
        "\n",
        "# Calculate the area of the rectangle\n",
        "area = length * width\n",
        "\n",
        "# Display the calculated area\n",
        "print(f\"The area of the rectangle with length {length} and width {width} is: {area}\")\n"
      ]
    },
    {
      "cell_type": "markdown",
      "metadata": {
        "id": "E9RqrlwdTfvl"
      },
      "source": [
        "(2) Create a Python program that interactively takes two numerical inputs from the user and swaps their values without utilizing an extra variable."
      ]
    },
    {
      "cell_type": "code",
      "execution_count": null,
      "metadata": {
        "id": "4XvRknixTh1g",
        "colab": {
          "base_uri": "https://localhost:8080/"
        },
        "outputId": "6714c826-33f7-4439-de5f-1079ae85bbe0"
      },
      "outputs": [
        {
          "output_type": "stream",
          "name": "stdout",
          "text": [
            "Enter the first number: 6\n",
            "Enter the second number: 2\n",
            "Original values: First number = 6.0, Second number = 2.0\n",
            "After swapping: First number = 2.0, Second number = 6.0\n"
          ]
        }
      ],
      "source": [
        "# Get input from the user for the first and second numbers\n",
        "num1 = float(input(\"Enter the first number: \"))\n",
        "num2 = float(input(\"Enter the second number: \"))\n",
        "\n",
        "# Display the original values\n",
        "print(f\"Original values: First number = {num1}, Second number = {num2}\")\n",
        "\n",
        "# Swap the values without using an extra variable\n",
        "num1 = num1 + num2\n",
        "num2 = num1 - num2\n",
        "num1 = num1 - num2\n",
        "\n",
        "# Display the values after swapping\n",
        "print(f\"After swapping: First number = {num1}, Second number = {num2}\")\n"
      ]
    },
    {
      "cell_type": "markdown",
      "metadata": {
        "id": "03jb4GZsBkBS"
      },
      "source": [
        "(3) Write a Python script to determine and print the length of a user-input string."
      ]
    },
    {
      "cell_type": "code",
      "execution_count": null,
      "metadata": {
        "id": "YaGLbSHHB8Ej",
        "colab": {
          "base_uri": "https://localhost:8080/"
        },
        "outputId": "25f4ab39-14c3-4909-fc7b-e2e970d0dacf"
      },
      "outputs": [
        {
          "output_type": "stream",
          "name": "stdout",
          "text": [
            "Enter a string: string\n",
            "The length of the entered string is: 6\n"
          ]
        }
      ],
      "source": [
        "# Get input from the user\n",
        "user_input = input(\"Enter a string: \")\n",
        "\n",
        "# Calculate and print the length of the string\n",
        "length = len(user_input)\n",
        "print(f\"The length of the entered string is: {length}\")\n",
        "\n"
      ]
    },
    {
      "cell_type": "markdown",
      "metadata": {
        "id": "jJDe71iLB616"
      },
      "source": [
        "(4) Construct a Python program that counts and displays the occurrences of each character in a given string.\n",
        "\n",
        "Sample String: 'openai.ai',\n",
        "\n",
        "Expected Result: {'a': 2, 'i': 2, '.': 1, 'o': 1, 'p': 1, 'e': 1, 'n': 1}"
      ]
    },
    {
      "cell_type": "code",
      "execution_count": null,
      "metadata": {
        "id": "MtKskTzbCLaU",
        "colab": {
          "base_uri": "https://localhost:8080/"
        },
        "outputId": "79900170-368a-45a7-eb1c-2c6199b64f24"
      },
      "outputs": [
        {
          "output_type": "stream",
          "name": "stdout",
          "text": [
            "Occurrences of each character:\n",
            "{'o': 1, 'p': 1, 'e': 1, 'n': 1, 'a': 2, 'i': 2, '.': 1}\n"
          ]
        }
      ],
      "source": [
        "# Sample string\n",
        "sample_string = 'openai.ai'\n",
        "\n",
        "# Initialize an empty dictionary to store character occurrences\n",
        "char_occurrences = {}\n",
        "\n",
        "# Count occurrences of each character in the string\n",
        "for char in sample_string:\n",
        "    # Using get() method to handle the case when the character is not in the dictionary yet\n",
        "    char_occurrences[char] = char_occurrences.get(char, 0) + 1\n",
        "\n",
        "# Display the result\n",
        "print(\"Occurrences of each character:\")\n",
        "print(char_occurrences)\n",
        "\n"
      ]
    },
    {
      "cell_type": "markdown",
      "metadata": {
        "id": "55W9AMdXCSpV"
      },
      "source": [
        "(5) Design a Python code to calculate the sum of all elements in a user-provided list."
      ]
    },
    {
      "cell_type": "code",
      "execution_count": null,
      "metadata": {
        "id": "I57NXsauCec2",
        "colab": {
          "base_uri": "https://localhost:8080/"
        },
        "outputId": "3871d107-999f-44f1-bdf7-6b30817b2106"
      },
      "outputs": [
        {
          "output_type": "stream",
          "name": "stdout",
          "text": [
            "Enter a list of numbers separated by spaces: 25 16 38 44\n",
            "The sum of all elements in the list is: 123.0\n"
          ]
        }
      ],
      "source": [
        "# Get input from the user for a list of numbers\n",
        "user_input = input(\"Enter a list of numbers separated by spaces: \")\n",
        "\n",
        "# Convert the input string into a list of floats\n",
        "numbers = [float(num) for num in user_input.split()]\n",
        "\n",
        "# Calculate the sum of all elements in the list\n",
        "sum_of_elements = sum(numbers)\n",
        "\n",
        "# Display the result\n",
        "print(f\"The sum of all elements in the list is: {sum_of_elements}\")\n",
        "\n"
      ]
    },
    {
      "cell_type": "markdown",
      "metadata": {
        "id": "4ulBZ6yhCi9F"
      },
      "source": [
        "(6) Write a Python program that modifies a given string by replacing all occurrences of its first character with '$', excluding the first character itself.\n",
        "\n",
        "\n",
        "Sample String : 'restart‘,\n",
        "\n",
        "Expected Result : 'resta\\$t'"
      ]
    },
    {
      "cell_type": "code",
      "execution_count": null,
      "metadata": {
        "id": "Fj0XhwbBCw2o",
        "colab": {
          "base_uri": "https://localhost:8080/"
        },
        "outputId": "7a368a3b-24b8-451b-b57d-1a5c23475b0f"
      },
      "outputs": [
        {
          "output_type": "stream",
          "name": "stdout",
          "text": [
            "Sample String: restart\n",
            "Expected Result: 'resta$t'\n",
            "Actual Result: resta$t\n"
          ]
        }
      ],
      "source": [
        "def replace_first_char(string):\n",
        "    if not string:\n",
        "        return string  # Return empty string if input is empty\n",
        "\n",
        "    first_char = string[0]\n",
        "    modified_string = first_char + string[1:].replace(first_char, '$')\n",
        "    return modified_string\n",
        "\n",
        "# Sample usage\n",
        "sample_string = 'restart'\n",
        "result = replace_first_char(sample_string)\n",
        "print(f\"Sample String: {sample_string}\")\n",
        "print(f\"Expected Result: 'resta$t'\")\n",
        "print(f\"Actual Result: {result}\")\n",
        "\n"
      ]
    },
    {
      "cell_type": "markdown",
      "metadata": {
        "id": "qVXA3q7ET5JI"
      },
      "source": [
        "(7) Write a Python program using a while loop to compute the factorial of a user-supplied number."
      ]
    },
    {
      "cell_type": "code",
      "execution_count": null,
      "metadata": {
        "id": "Lbt7R6UkT7BA",
        "colab": {
          "base_uri": "https://localhost:8080/"
        },
        "outputId": "d614ce1b-0e24-41fc-e9e8-4a2c8f2c1a48"
      },
      "outputs": [
        {
          "output_type": "stream",
          "name": "stdout",
          "text": [
            "Enter a non-negative integer: 7\n",
            "The factorial of 7 is: 5040\n"
          ]
        }
      ],
      "source": [
        "def compute_factorial(number):\n",
        "    factorial = 1\n",
        "    i = 1\n",
        "\n",
        "    while i <= number:\n",
        "        factorial *= i\n",
        "        i += 1\n",
        "\n",
        "    return factorial\n",
        "\n",
        "# Get user input for the number\n",
        "user_input = input(\"Enter a non-negative integer: \")\n",
        "\n",
        "try:\n",
        "    user_number = int(user_input)\n",
        "\n",
        "    if user_number < 0:\n",
        "        print(\"Please enter a non-negative integer.\")\n",
        "    else:\n",
        "        result = compute_factorial(user_number)\n",
        "        print(f\"The factorial of {user_number} is: {result}\")\n",
        "\n",
        "except ValueError:\n",
        "    print(\"Invalid input. Please enter a valid integer.\")\n",
        "\n"
      ]
    },
    {
      "cell_type": "markdown",
      "metadata": {
        "id": "6YfbzXMNT--R"
      },
      "source": [
        "(8) Create a program that accepts a list of numbers as input and outputs a new list containing only the even numbers."
      ]
    },
    {
      "cell_type": "code",
      "execution_count": null,
      "metadata": {
        "id": "54q7wMQPUAKu",
        "colab": {
          "base_uri": "https://localhost:8080/"
        },
        "outputId": "2b8f1e0b-dd37-4f92-e41a-f454be2c1a04"
      },
      "outputs": [
        {
          "output_type": "stream",
          "name": "stdout",
          "text": [
            "Enter a list of numbers separated by spaces: 12 38 73 27 19\n",
            "Original List: [12, 38, 73, 27, 19]\n",
            "List of Even Numbers: [12, 38]\n"
          ]
        }
      ],
      "source": [
        "def filter_even_numbers(input_list):\n",
        "    even_numbers = [num for num in input_list if num % 2 == 0]\n",
        "    return even_numbers\n",
        "\n",
        "# Get user input for the list of numbers\n",
        "user_input = input(\"Enter a list of numbers separated by spaces: \")\n",
        "\n",
        "try:\n",
        "    user_numbers = [int(num) for num in user_input.split()]\n",
        "    even_numbers_result = filter_even_numbers(user_numbers)\n",
        "\n",
        "    print(\"Original List:\", user_numbers)\n",
        "    print(\"List of Even Numbers:\", even_numbers_result)\n",
        "\n",
        "except ValueError:\n",
        "    print(\"Invalid input. Please enter valid numbers separated by spaces.\")\n",
        "\n"
      ]
    },
    {
      "cell_type": "markdown",
      "metadata": {
        "id": "_bIP7s1MCzue"
      },
      "source": [
        "\n",
        "(9) Design a Python function to check if a number is prime.\n"
      ]
    },
    {
      "cell_type": "code",
      "execution_count": null,
      "metadata": {
        "id": "w79QilHXD3Mg",
        "colab": {
          "base_uri": "https://localhost:8080/"
        },
        "outputId": "6acd389e-c745-4b49-cb29-05862eabd13b"
      },
      "outputs": [
        {
          "output_type": "stream",
          "name": "stdout",
          "text": [
            "Enter a number to check for primality: 56\n",
            "56 is not a prime number.\n"
          ]
        }
      ],
      "source": [
        "def is_prime(number):\n",
        "    if number < 2:\n",
        "        return False  # Numbers less than 2 are not prime\n",
        "\n",
        "    for i in range(2, int(number**0.5) + 1):\n",
        "        if number % i == 0:\n",
        "            return False  # If the number is divisible by any integer in the range, it's not prime\n",
        "\n",
        "    return True  # If the number is not divisible by any integer in the range, it's prime\n",
        "\n",
        "# Test the function\n",
        "user_input = input(\"Enter a number to check for primality: \")\n",
        "\n",
        "try:\n",
        "    user_number = int(user_input)\n",
        "\n",
        "    if is_prime(user_number):\n",
        "        print(f\"{user_number} is a prime number.\")\n",
        "    else:\n",
        "        print(f\"{user_number} is not a prime number.\")\n",
        "\n",
        "except ValueError:\n",
        "    print(\"Invalid input. Please enter a valid integer.\")\n"
      ]
    },
    {
      "cell_type": "markdown",
      "metadata": {
        "id": "xCa2bK9aD4Q3"
      },
      "source": [
        "(10) Write a Python program to concatenate following dictionaries to create a new one.\n",
        "\n",
        "Sample Dictionary : dic1={1:10, 2:20}, dic2={3:30, 4:40}, dic3={5:50,6:60},\n",
        "\n",
        "Expected Result : {1: 10, 2: 20, 3: 30, 4: 40, 5: 50, 6: 60}\n"
      ]
    },
    {
      "cell_type": "code",
      "execution_count": null,
      "metadata": {
        "id": "_z4aLqAbEET1",
        "colab": {
          "base_uri": "https://localhost:8080/"
        },
        "outputId": "6f428c46-970d-4848-f06c-671caab63c78"
      },
      "outputs": [
        {
          "output_type": "stream",
          "name": "stdout",
          "text": [
            "Resulting Dictionary: {1: 10, 2: 20, 3: 30, 4: 40, 5: 50, 6: 60}\n"
          ]
        }
      ],
      "source": [
        "# Sample dictionaries\n",
        "dic1 = {1: 10, 2: 20}\n",
        "dic2 = {3: 30, 4: 40}\n",
        "dic3 = {5: 50, 6: 60}\n",
        "\n",
        "# Concatenating dictionaries\n",
        "result_dict = {}\n",
        "result_dict.update(dic1)\n",
        "result_dict.update(dic2)\n",
        "result_dict.update(dic3)\n",
        "\n",
        "# Displaying the result\n",
        "print(\"Resulting Dictionary:\", result_dict)\n",
        "\n"
      ]
    },
    {
      "cell_type": "markdown",
      "metadata": {
        "id": "bkyZ2xSZUOst"
      },
      "source": [
        "(11) Design a Python function that takes a tuple of integers as input and returns the largest and smallest elements."
      ]
    },
    {
      "cell_type": "code",
      "source": [
        "def find_largest_and_smallest(numbers_tuple):\n",
        "    if not numbers_tuple:\n",
        "        return None, None  # Return None for both largest and smallest if the tuple is empty\n",
        "\n",
        "    largest = smallest = numbers_tuple[0]\n",
        "\n",
        "    for num in numbers_tuple:\n",
        "        if num > largest:\n",
        "            largest = num\n",
        "        elif num < smallest:\n",
        "            smallest = num\n",
        "\n",
        "    return largest, smallest\n",
        "\n",
        "# Test the function\n",
        "user_input = input(\"Enter a tuple of integers separated by commas (e.g., 1, 2, 3): \")\n",
        "\n",
        "try:\n",
        "    user_tuple = tuple(map(int, user_input.split(',')))\n",
        "    largest, smallest = find_largest_and_smallest(user_tuple)\n",
        "\n",
        "    if largest is not None and smallest is not None:\n",
        "        print(f\"Largest Element: {largest}\")\n",
        "        print(f\"Smallest Element: {smallest}\")\n",
        "    else:\n",
        "        print(\"Tuple is empty.\")\n",
        "\n",
        "except ValueError:\n",
        "    print(\"Invalid input. Please enter a valid tuple of integers.\")\n"
      ],
      "metadata": {
        "colab": {
          "base_uri": "https://localhost:8080/"
        },
        "id": "ITDgliUD3FYh",
        "outputId": "6e8e57af-4854-4128-c560-0cbbfa04a9d2"
      },
      "execution_count": null,
      "outputs": [
        {
          "output_type": "stream",
          "name": "stdout",
          "text": [
            "Enter a tuple of integers separated by commas (e.g., 1, 2, 3): 12,13,14,15\n",
            "Largest Element: 15\n",
            "Smallest Element: 12\n"
          ]
        }
      ]
    },
    {
      "cell_type": "markdown",
      "metadata": {
        "id": "O0TVi3gKUTpp"
      },
      "source": [
        "(12) Write a Python program that counts the frequency of each character in a given string and stores it in a dictionary."
      ]
    },
    {
      "cell_type": "code",
      "execution_count": null,
      "metadata": {
        "id": "lAtfSfZXUU-h",
        "colab": {
          "base_uri": "https://localhost:8080/"
        },
        "outputId": "16c1f153-771a-4388-cae9-d6752b284e44"
      },
      "outputs": [
        {
          "output_type": "stream",
          "name": "stdout",
          "text": [
            "Enter a string: string\n",
            "Character Frequency:\n",
            "s: 1\n",
            "t: 1\n",
            "r: 1\n",
            "i: 1\n",
            "n: 1\n",
            "g: 1\n"
          ]
        }
      ],
      "source": [
        "def count_characters(input_string):\n",
        "    char_frequency = {}\n",
        "\n",
        "    for char in input_string:\n",
        "        if char in char_frequency:\n",
        "            char_frequency[char] += 1\n",
        "        else:\n",
        "            char_frequency[char] = 1\n",
        "\n",
        "    return char_frequency\n",
        "\n",
        "# Test the function\n",
        "user_input = input(\"Enter a string: \")\n",
        "result = count_characters(user_input)\n",
        "\n",
        "# Display the result\n",
        "print(\"Character Frequency:\")\n",
        "for char, frequency in result.items():\n",
        "    print(f\"{char}: {frequency}\")\n"
      ]
    },
    {
      "cell_type": "markdown",
      "metadata": {
        "id": "0v48Vqa7FrQh"
      },
      "source": [
        "(13) Implement a Python script to identify duplicate elements in a provided array of integers. Return -1 if there are no duplicates."
      ]
    },
    {
      "cell_type": "code",
      "execution_count": null,
      "metadata": {
        "id": "7WEmgq-DF2P1",
        "colab": {
          "base_uri": "https://localhost:8080/"
        },
        "outputId": "201c46b2-13dc-43ba-bae2-581df2e6cdab"
      },
      "outputs": [
        {
          "output_type": "stream",
          "name": "stdout",
          "text": [
            "Enter a list of integers separated by spaces: 29 48 22 45 43\n",
            "No duplicates found.\n"
          ]
        }
      ],
      "source": [
        "def find_duplicates(nums):\n",
        "    seen = set()\n",
        "    duplicates = set()\n",
        "\n",
        "    for num in nums:\n",
        "        if num in seen:\n",
        "            duplicates.add(num)\n",
        "        else:\n",
        "            seen.add(num)\n",
        "\n",
        "    if not duplicates:\n",
        "        return -1\n",
        "    else:\n",
        "        return list(duplicates)\n",
        "\n",
        "# Test the function\n",
        "user_input = input(\"Enter a list of integers separated by spaces: \")\n",
        "\n",
        "try:\n",
        "    user_array = list(map(int, user_input.split()))\n",
        "    result = find_duplicates(user_array)\n",
        "\n",
        "    if result == -1:\n",
        "        print(\"No duplicates found.\")\n",
        "    else:\n",
        "        print(f\"Duplicates found: {result}\")\n",
        "\n",
        "except ValueError:\n",
        "    print(\"Invalid input. Please enter a valid list of integers.\")\n"
      ]
    },
    {
      "cell_type": "markdown",
      "metadata": {
        "id": "vD5PYLMuGga_"
      },
      "source": [
        "(14) Write a Python script to find the common elements between two lists."
      ]
    },
    {
      "cell_type": "code",
      "execution_count": null,
      "metadata": {
        "id": "t0D5kdJUGjjw",
        "colab": {
          "base_uri": "https://localhost:8080/"
        },
        "outputId": "1be93638-ff34-496d-c1ac-8f1738668806"
      },
      "outputs": [
        {
          "output_type": "stream",
          "name": "stdout",
          "text": [
            "Enter the first list of elements separated by spaces: 58 79 36 80 25\n",
            "Enter the second list of elements separated by spaces: 36 69 23 97 45\n",
            "Common elements: [36]\n"
          ]
        }
      ],
      "source": [
        "def find_common_elements(list1, list2):\n",
        "    common_elements = set(list1) & set(list2)\n",
        "    return list(common_elements)\n",
        "\n",
        "# Test the function\n",
        "user_input1 = input(\"Enter the first list of elements separated by spaces: \")\n",
        "user_input2 = input(\"Enter the second list of elements separated by spaces: \")\n",
        "\n",
        "try:\n",
        "    list1 = list(map(int, user_input1.split()))\n",
        "    list2 = list(map(int, user_input2.split()))\n",
        "\n",
        "    result = find_common_elements(list1, list2)\n",
        "\n",
        "    if not result:\n",
        "        print(\"No common elements found.\")\n",
        "    else:\n",
        "        print(f\"Common elements: {result}\")\n",
        "\n",
        "except ValueError:\n",
        "    print(\"Invalid input. Please enter valid lists of elements.\")\n",
        "\n"
      ]
    },
    {
      "cell_type": "markdown",
      "metadata": {
        "id": "uHkd-y5VhVWC"
      },
      "source": [
        "(15) Write a Python program to randomly divide the students in this class into six groups for term projects, each group should have at least 4 students but no more than 6 students (including 6).\n",
        "\n",
        "Here is the students list:\n",
        "\n",
        "student_list_spring_2024=[rb0846,\n",
        "ac1964,\n",
        "hc0612,\n",
        "md0912,\n",
        "ad1198,\n",
        "md0894,\n",
        "md0825,\n",
        "vg0598,\n",
        "vg0433,\n",
        "mh1068,\n",
        "yj0173,\n",
        "pk0553,\n",
        "tk0411,\n",
        "srk0204,\n",
        "sk2922,\n",
        "sk2936,\n",
        "mk1302,\n",
        "mk1317,\n",
        "tk0412,\n",
        "vk0656,\n",
        "sm2985,\n",
        "mm2372,\n",
        "un0045,\n",
        "an0892,\n",
        "sn0913,\n",
        "gp0252,\n",
        "ap1484,\n",
        "mr1765,\n",
        "sr1385,\n",
        "sr1335,\n",
        "hs0665,\n",
        "ms2060,\n",
        "gt0217,\n",
        "nt0385,\n",
        "tv0186,\n",
        "sv1394,\n",
        "sv1752,\n",
        "sv1555,\n",
        "sy0594\n",
        "]\n"
      ]
    },
    {
      "cell_type": "code",
      "execution_count": null,
      "metadata": {
        "id": "3iGbmcOBhTwy",
        "colab": {
          "base_uri": "https://localhost:8080/"
        },
        "outputId": "0f7ca834-78da-4aa2-c25a-5d46ec06bc87"
      },
      "outputs": [
        {
          "output_type": "stream",
          "name": "stdout",
          "text": [
            "Group 1: ['ad1198', 'vk0656', 'an0892', 'un0045', 'sv1394', 'tv0186', 'md0894']\n",
            "Group 2: ['srk0204', 'md0912', 'md0825', 'mk1317', 'sr1385', 'ms2060', 'sy0594']\n",
            "Group 3: ['nt0385', 'sv1555', 'sn0913', 'sk2922', 'sk2936', 'mh1068', 'ap1484']\n",
            "Group 4: ['pk0553', 'vg0598', 'tk0411', 'sv1752', 'rb0846', 'yj0173']\n",
            "Group 5: ['tk0412', 'gt0217', 'mr1765', 'hs0665', 'hc0612', 'mk1302']\n",
            "Group 6: ['vg0433', 'ac1964', 'gp0252', 'mm2372', 'sm2985', 'sr1335']\n"
          ]
        }
      ],
      "source": [
        "import random\n",
        "\n",
        "def divide_students_into_groups(student_list):\n",
        "    # Shuffle the student list randomly\n",
        "    random.shuffle(student_list)\n",
        "\n",
        "    # Determine the size of each group\n",
        "    group_size_min = 4\n",
        "    group_size_max = 6\n",
        "\n",
        "    # Initialize the groups\n",
        "    groups = [[] for _ in range(6)]\n",
        "\n",
        "    # Assign students to groups\n",
        "    current_group = 0\n",
        "    for student in student_list:\n",
        "        groups[current_group].append(student)\n",
        "        current_group = (current_group + 1) % 6  # Move to the next group in a circular manner\n",
        "\n",
        "    return groups\n",
        "\n",
        "# List of students for Spring 2024\n",
        "student_list_spring_2024 = [\"rb0846\", \"ac1964\", \"hc0612\", \"md0912\", \"ad1198\", \"md0894\", \"md0825\", \"vg0598\", \"vg0433\",\n",
        "                            \"mh1068\", \"yj0173\", \"pk0553\", \"tk0411\", \"srk0204\", \"sk2922\", \"sk2936\", \"mk1302\", \"mk1317\",\n",
        "                            \"tk0412\", \"vk0656\", \"sm2985\", \"mm2372\", \"un0045\", \"an0892\", \"sn0913\", \"gp0252\", \"ap1484\",\n",
        "                            \"mr1765\", \"sr1385\", \"sr1335\", \"hs0665\", \"ms2060\", \"gt0217\", \"nt0385\", \"tv0186\", \"sv1394\",\n",
        "                            \"sv1752\", \"sv1555\", \"sy0594\"]\n",
        "\n",
        "# Randomly divide students into groups\n",
        "grouped_students = divide_students_into_groups(student_list_spring_2024)\n",
        "\n",
        "# Display the groups\n",
        "for i, group in enumerate(grouped_students, start=1):\n",
        "    print(f\"Group {i}: {group}\")\n"
      ]
    },
    {
      "cell_type": "markdown",
      "metadata": {
        "id": "fmZ9vX20Qs3d"
      },
      "source": [
        "(16) Create a program that takes a positive integer 'n' as input and prints the count of even numbers from 1 to 'n'. Optimize the loop using the break statement."
      ]
    },
    {
      "cell_type": "code",
      "execution_count": null,
      "metadata": {
        "id": "W8Jw6sWMQs3d",
        "colab": {
          "base_uri": "https://localhost:8080/"
        },
        "outputId": "df002cc6-1214-4626-f880-2d1a16d8ca56"
      },
      "outputs": [
        {
          "output_type": "stream",
          "name": "stdout",
          "text": [
            "Enter a positive integer 'n': 38\n",
            "The count of even numbers from 1 to 38 is: 19\n"
          ]
        }
      ],
      "source": [
        "def count_even_numbers(n):\n",
        "    count = 0\n",
        "\n",
        "    for i in range(1, n + 1):\n",
        "        if i % 2 == 0:\n",
        "            count += 1\n",
        "        elif i > n:  # Optimization using break statement\n",
        "            break\n",
        "\n",
        "    return count\n",
        "\n",
        "# Get user input for the positive integer 'n'\n",
        "user_input = input(\"Enter a positive integer 'n': \")\n",
        "\n",
        "try:\n",
        "    user_number = int(user_input)\n",
        "\n",
        "    if user_number > 0:\n",
        "        result = count_even_numbers(user_number)\n",
        "        print(f\"The count of even numbers from 1 to {user_number} is: {result}\")\n",
        "    else:\n",
        "        print(\"Please enter a positive integer.\")\n",
        "\n",
        "except ValueError:\n",
        "    print(\"Invalid input. Please enter a valid integer.\")\n",
        "\n",
        "\n"
      ]
    },
    {
      "cell_type": "markdown",
      "metadata": {
        "id": "hvq4APMhQs3d"
      },
      "source": [
        "(17) Develop a Python function called 'count_vowels' that takes a string as input and returns the count of vowels (both lowercase and uppercase) present in the string, ignoring spaces and non-alphabetic characters."
      ]
    },
    {
      "cell_type": "code",
      "execution_count": null,
      "metadata": {
        "id": "ZnoxhSglQs3d",
        "colab": {
          "base_uri": "https://localhost:8080/"
        },
        "outputId": "75b7ac1b-15f4-47cf-e34d-fe8bb3aa9236"
      },
      "outputs": [
        {
          "output_type": "stream",
          "name": "stdout",
          "text": [
            "Enter a string: result\n",
            "The count of vowels in the string is: 2\n"
          ]
        }
      ],
      "source": [
        "def count_vowels(input_string):\n",
        "    vowels = \"aeiouAEIOU\"\n",
        "    vowel_count = 0\n",
        "\n",
        "    for char in input_string:\n",
        "        if char.isalpha() and char in vowels:\n",
        "            vowel_count += 1\n",
        "\n",
        "    return vowel_count\n",
        "\n",
        "# Test the function\n",
        "user_input = input(\"Enter a string: \")\n",
        "result = count_vowels(user_input)\n",
        "\n",
        "print(f\"The count of vowels in the string is: {result}\")\n",
        "\n",
        "\n"
      ]
    },
    {
      "cell_type": "markdown",
      "metadata": {
        "id": "55FWoSJPVVM6"
      },
      "source": [
        "(18) Create a custom exception named ValueTooSmallError in Python. Write a program that takes user input for an age, and if the entered age is less than 18, raise the ValueTooSmallError with an appropriate error message."
      ]
    },
    {
      "cell_type": "code",
      "execution_count": null,
      "metadata": {
        "id": "hwtr1wZmVX5A",
        "colab": {
          "base_uri": "https://localhost:8080/"
        },
        "outputId": "890c04c2-a0b0-4662-ff19-dd75cdea5ae0"
      },
      "outputs": [
        {
          "output_type": "stream",
          "name": "stdout",
          "text": [
            "Enter your age: 23\n",
            "You entered a valid age: 23\n"
          ]
        }
      ],
      "source": [
        "class ValueTooSmallError(Exception):\n",
        "    \"\"\"Custom exception for values that are too small.\"\"\"\n",
        "    pass\n",
        "\n",
        "def get_user_age():\n",
        "    \"\"\"Get user input for age.\"\"\"\n",
        "    try:\n",
        "        age = int(input(\"Enter your age: \"))\n",
        "        if age < 18:\n",
        "            raise ValueTooSmallError(\"Age must be 18 or older.\")\n",
        "        else:\n",
        "            print(\"You entered a valid age:\", age)\n",
        "    except ValueError:\n",
        "        print(\"Invalid input. Please enter a valid number.\")\n",
        "    except ValueTooSmallError as vts_err:\n",
        "        print(f\"Error: {vts_err}\")\n",
        "\n",
        "# Example usage\n",
        "get_user_age()\n",
        "\n"
      ]
    },
    {
      "cell_type": "markdown",
      "metadata": {
        "id": "Q9ecagcaVazW"
      },
      "source": [
        "(19) Develop a script that reverses a given string without using built-in reverse functions."
      ]
    },
    {
      "cell_type": "code",
      "execution_count": null,
      "metadata": {
        "id": "gycgckoAVZjR",
        "colab": {
          "base_uri": "https://localhost:8080/"
        },
        "outputId": "ddacece4-8b38-4ed9-bec8-c860f14494ff"
      },
      "outputs": [
        {
          "output_type": "stream",
          "name": "stdout",
          "text": [
            "Enter a string: madhu\n",
            "Reversed string: uhdam\n"
          ]
        }
      ],
      "source": [
        "def reverse_string(input_string):\n",
        "    reversed_string = \"\"\n",
        "    for char in input_string[::-1]:\n",
        "        reversed_string += char\n",
        "    return reversed_string\n",
        "\n",
        "# Example usage\n",
        "user_input = input(\"Enter a string: \")\n",
        "result = reverse_string(user_input)\n",
        "print(\"Reversed string:\", result)\n"
      ]
    },
    {
      "cell_type": "markdown",
      "metadata": {
        "id": "ZFG6RibifMLu"
      },
      "source": [
        "(20) Implement a Python script to generate a random password of a specified length."
      ]
    },
    {
      "cell_type": "code",
      "execution_count": null,
      "metadata": {
        "id": "BFVrkEi9fNiD",
        "colab": {
          "base_uri": "https://localhost:8080/"
        },
        "outputId": "6fabbb98-b7ec-4e35-cfb7-acd1a646428e"
      },
      "outputs": [
        {
          "output_type": "stream",
          "name": "stdout",
          "text": [
            "Enter the length of the password: 8\n",
            "Random Password: `oZwLhh$\n"
          ]
        }
      ],
      "source": [
        "import secrets\n",
        "import string\n",
        "\n",
        "def generate_random_password(length):\n",
        "    # Define the character set for the password\n",
        "    characters = string.ascii_letters + string.digits + string.punctuation\n",
        "\n",
        "    # Use secrets module to generate a secure random password\n",
        "    password = ''.join(secrets.choice(characters) for _ in range(length))\n",
        "\n",
        "    return password\n",
        "\n",
        "# Example usage\n",
        "password_length = int(input(\"Enter the length of the password: \"))\n",
        "\n",
        "if password_length <= 0:\n",
        "    print(\"Invalid password length. Please enter a positive integer.\")\n",
        "else:\n",
        "    random_password = generate_random_password(password_length)\n",
        "    print(\"Random Password:\", random_password)\n"
      ]
    },
    {
      "cell_type": "markdown",
      "metadata": {
        "id": "6SmvS7nSfbj8"
      },
      "source": [
        "# Try these questions:"
      ]
    },
    {
      "cell_type": "markdown",
      "metadata": {
        "id": "cboAr5pEWUf5"
      },
      "source": [
        "(21) Define a base class called 'Vehicle' with attributes make and model. Create a derived class Car that inherits from Vehicle and has an additional attribute 'num_doors'. Demonstrate an example of creating an instance of the 'Car' class and accessing its attributes."
      ]
    },
    {
      "cell_type": "code",
      "execution_count": null,
      "metadata": {
        "id": "phs9gciMWWAW",
        "colab": {
          "base_uri": "https://localhost:8080/"
        },
        "outputId": "91924ade-da4c-49f6-890a-2f2167d5c467"
      },
      "outputs": [
        {
          "output_type": "stream",
          "name": "stdout",
          "text": [
            "Make: Toyota\n",
            "Model: Camry\n",
            "Number of Doors: 4\n"
          ]
        }
      ],
      "source": [
        "class Vehicle:\n",
        "    def __init__(self, make, model):\n",
        "        self.make = make\n",
        "        self.model = model\n",
        "\n",
        "class Car(Vehicle):\n",
        "    def __init__(self, make, model, num_doors):\n",
        "        # Call the constructor of the base class (Vehicle)\n",
        "        super().__init__(make, model)\n",
        "        self.num_doors = num_doors\n",
        "\n",
        "# Example usage\n",
        "car_instance = Car(make=\"Toyota\", model=\"Camry\", num_doors=4)\n",
        "\n",
        "# Accessing attributes\n",
        "print(\"Make:\", car_instance.make)\n",
        "print(\"Model:\", car_instance.model)\n",
        "print(\"Number of Doors:\", car_instance.num_doors)\n",
        "\n",
        "\n"
      ]
    },
    {
      "cell_type": "markdown",
      "metadata": {
        "id": "J8HHefNtePwd"
      },
      "source": [
        "(22) Create a class called 'Shape' with a method calculate_area(). Implement two derived classes 'Circle' and 'Rectangle' that inherit from Shape and override the calculate_area() method. Demonstrate polymorphism by creating instances of both derived classes and calling the calculate_area() method."
      ]
    },
    {
      "cell_type": "code",
      "execution_count": null,
      "metadata": {
        "id": "btnMmUZDeRhS",
        "colab": {
          "base_uri": "https://localhost:8080/"
        },
        "outputId": "fadda4a8-c098-40e1-b852-cff6c06218f4"
      },
      "outputs": [
        {
          "output_type": "stream",
          "name": "stdout",
          "text": [
            "Area of the Circle: 78.54 square units\n",
            "Area of the Rectangle: 24 square units\n"
          ]
        }
      ],
      "source": [
        "import math\n",
        "\n",
        "class Shape:\n",
        "    def calculate_area(self):\n",
        "        pass  # This method will be overridden in the derived classes\n",
        "\n",
        "class Circle(Shape):\n",
        "    def __init__(self, radius):\n",
        "        self.radius = radius\n",
        "\n",
        "    def calculate_area(self):\n",
        "        return math.pi * self.radius**2\n",
        "\n",
        "class Rectangle(Shape):\n",
        "    def __init__(self, length, width):\n",
        "        self.length = length\n",
        "        self.width = width\n",
        "\n",
        "    def calculate_area(self):\n",
        "        return self.length * self.width\n",
        "\n",
        "# Demonstrate polymorphism\n",
        "circle_instance = Circle(radius=5)\n",
        "rectangle_instance = Rectangle(length=4, width=6)\n",
        "\n",
        "# Calculate and print areas using polymorphism\n",
        "print(f\"Area of the Circle: {circle_instance.calculate_area():.2f} square units\")\n",
        "print(f\"Area of the Rectangle: {rectangle_instance.calculate_area()} square units\")\n"
      ]
    },
    {
      "cell_type": "markdown",
      "metadata": {
        "id": "z0oqEAlTeMUS"
      },
      "source": [
        "(23) Write a Python program that prompts the user to enter two numbers and perform a division operation. Handle exceptions for both zero division and invalid input (non-numeric input). Display appropriate error messages for each type of exception and ensure the program does not crash due to these errors."
      ]
    },
    {
      "cell_type": "code",
      "execution_count": null,
      "metadata": {
        "id": "yjdc1zM1eMAs",
        "colab": {
          "base_uri": "https://localhost:8080/"
        },
        "outputId": "f54197a6-1fb6-4c9b-a585-f2680690005a"
      },
      "outputs": [
        {
          "output_type": "stream",
          "name": "stdout",
          "text": [
            "Enter the numerator: 6\n",
            "Enter the denominator: 7\n",
            "Result of division: 0.8571428571428571\n"
          ]
        }
      ],
      "source": [
        "def divide_numbers():\n",
        "    try:\n",
        "        # Get user input for two numbers\n",
        "        numerator = float(input(\"Enter the numerator: \"))\n",
        "        denominator = float(input(\"Enter the denominator: \"))\n",
        "\n",
        "        # Perform division\n",
        "        result = numerator / denominator\n",
        "\n",
        "        # Display the result\n",
        "        print(f\"Result of division: {result}\")\n",
        "\n",
        "    except ValueError:\n",
        "        print(\"Error: Please enter valid numeric values.\")\n",
        "\n",
        "    except ZeroDivisionError:\n",
        "        print(\"Error: Division by zero is not allowed.\")\n",
        "\n",
        "if __name__ == \"__main__\":\n",
        "    divide_numbers()\n"
      ]
    },
    {
      "cell_type": "markdown",
      "metadata": {
        "id": "sZOhks1dXWEe"
      },
      "source": [
        "# Mandatory Question"
      ]
    },
    {
      "cell_type": "markdown",
      "metadata": {
        "id": "eqmHVEwaWhbV"
      },
      "source": [
        "**Important:**\n",
        "Reflecting on the first three lectures and the exercises you've completed, please provide feedback on your learning experience. Share your thoughts on whether the material covered was clear, the exercises were helpful, and if you feel more confident in applying Python programming concepts. Additionally, mention any specific areas where you would like more clarification or topics you would like to explore further in future lectures. Your feedback is valuable in shaping the course for an effective learning journey."
      ]
    },
    {
      "cell_type": "markdown",
      "metadata": {
        "id": "HlpXOT9wXQAd"
      },
      "source": [
        "Write your response here."
      ]
    },
    {
      "cell_type": "code",
      "execution_count": null,
      "metadata": {
        "id": "Dq2aOZU7XIke"
      },
      "outputs": [],
      "source": []
    }
  ],
  "metadata": {
    "colab": {
      "provenance": [],
      "include_colab_link": true
    },
    "kernelspec": {
      "display_name": "Python 3 (ipykernel)",
      "language": "python",
      "name": "python3"
    },
    "language_info": {
      "codemirror_mode": {
        "name": "ipython",
        "version": 3
      },
      "file_extension": ".py",
      "mimetype": "text/x-python",
      "name": "python",
      "nbconvert_exporter": "python",
      "pygments_lexer": "ipython3",
      "version": "3.9.13"
    }
  },
  "nbformat": 4,
  "nbformat_minor": 0
}